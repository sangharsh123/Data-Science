{
  "nbformat": 4,
  "nbformat_minor": 0,
  "metadata": {
    "colab": {
      "name": "ANN.ipynb",
      "provenance": []
    },
    "kernelspec": {
      "name": "python3",
      "display_name": "Python 3"
    },
    "language_info": {
      "name": "python"
    }
  },
  "cells": [
    {
      "cell_type": "code",
      "metadata": {
        "id": "PR7WUwXka5r_"
      },
      "source": [
        "import pandas as pd\n",
        "import numpy as np\n",
        "import seaborn as sns\n",
        "import matplotlib.pyplot as plt\n",
        "%matplotlib inline"
      ],
      "execution_count": 27,
      "outputs": []
    },
    {
      "cell_type": "code",
      "metadata": {
        "colab": {
          "base_uri": "https://localhost:8080/",
          "height": 456
        },
        "id": "rY40xKHyczwR",
        "outputId": "626c956b-1fc7-46d9-97da-031bb9e57936"
      },
      "source": [
        "df= pd.read_csv(\"cancer_data.csv\")\n",
        "df"
      ],
      "execution_count": 28,
      "outputs": [
        {
          "output_type": "execute_result",
          "data": {
            "text/html": [
              "<div>\n",
              "<style scoped>\n",
              "    .dataframe tbody tr th:only-of-type {\n",
              "        vertical-align: middle;\n",
              "    }\n",
              "\n",
              "    .dataframe tbody tr th {\n",
              "        vertical-align: top;\n",
              "    }\n",
              "\n",
              "    .dataframe thead th {\n",
              "        text-align: right;\n",
              "    }\n",
              "</style>\n",
              "<table border=\"1\" class=\"dataframe\">\n",
              "  <thead>\n",
              "    <tr style=\"text-align: right;\">\n",
              "      <th></th>\n",
              "      <th>id</th>\n",
              "      <th>diagnosis</th>\n",
              "      <th>radius_mean</th>\n",
              "      <th>texture_mean</th>\n",
              "      <th>perimeter_mean</th>\n",
              "      <th>area_mean</th>\n",
              "      <th>smoothness_mean</th>\n",
              "      <th>compactness_mean</th>\n",
              "      <th>concavity_mean</th>\n",
              "      <th>concave points_mean</th>\n",
              "      <th>symmetry_mean</th>\n",
              "      <th>fractal_dimension_mean</th>\n",
              "      <th>radius_se</th>\n",
              "      <th>texture_se</th>\n",
              "      <th>perimeter_se</th>\n",
              "      <th>area_se</th>\n",
              "      <th>smoothness_se</th>\n",
              "      <th>compactness_se</th>\n",
              "      <th>concavity_se</th>\n",
              "      <th>concave points_se</th>\n",
              "      <th>symmetry_se</th>\n",
              "      <th>fractal_dimension_se</th>\n",
              "      <th>radius_worst</th>\n",
              "      <th>texture_worst</th>\n",
              "      <th>perimeter_worst</th>\n",
              "      <th>area_worst</th>\n",
              "      <th>smoothness_worst</th>\n",
              "      <th>compactness_worst</th>\n",
              "      <th>concavity_worst</th>\n",
              "      <th>concave points_worst</th>\n",
              "      <th>symmetry_worst</th>\n",
              "      <th>fractal_dimension_worst</th>\n",
              "      <th>Unnamed: 32</th>\n",
              "    </tr>\n",
              "  </thead>\n",
              "  <tbody>\n",
              "    <tr>\n",
              "      <th>0</th>\n",
              "      <td>842302</td>\n",
              "      <td>M</td>\n",
              "      <td>17.99</td>\n",
              "      <td>10.38</td>\n",
              "      <td>122.80</td>\n",
              "      <td>1001.0</td>\n",
              "      <td>0.11840</td>\n",
              "      <td>0.27760</td>\n",
              "      <td>0.30010</td>\n",
              "      <td>0.14710</td>\n",
              "      <td>0.2419</td>\n",
              "      <td>0.07871</td>\n",
              "      <td>1.0950</td>\n",
              "      <td>0.9053</td>\n",
              "      <td>8.589</td>\n",
              "      <td>153.40</td>\n",
              "      <td>0.006399</td>\n",
              "      <td>0.04904</td>\n",
              "      <td>0.05373</td>\n",
              "      <td>0.01587</td>\n",
              "      <td>0.03003</td>\n",
              "      <td>0.006193</td>\n",
              "      <td>25.380</td>\n",
              "      <td>17.33</td>\n",
              "      <td>184.60</td>\n",
              "      <td>2019.0</td>\n",
              "      <td>0.16220</td>\n",
              "      <td>0.66560</td>\n",
              "      <td>0.7119</td>\n",
              "      <td>0.2654</td>\n",
              "      <td>0.4601</td>\n",
              "      <td>0.11890</td>\n",
              "      <td>NaN</td>\n",
              "    </tr>\n",
              "    <tr>\n",
              "      <th>1</th>\n",
              "      <td>842517</td>\n",
              "      <td>M</td>\n",
              "      <td>20.57</td>\n",
              "      <td>17.77</td>\n",
              "      <td>132.90</td>\n",
              "      <td>1326.0</td>\n",
              "      <td>0.08474</td>\n",
              "      <td>0.07864</td>\n",
              "      <td>0.08690</td>\n",
              "      <td>0.07017</td>\n",
              "      <td>0.1812</td>\n",
              "      <td>0.05667</td>\n",
              "      <td>0.5435</td>\n",
              "      <td>0.7339</td>\n",
              "      <td>3.398</td>\n",
              "      <td>74.08</td>\n",
              "      <td>0.005225</td>\n",
              "      <td>0.01308</td>\n",
              "      <td>0.01860</td>\n",
              "      <td>0.01340</td>\n",
              "      <td>0.01389</td>\n",
              "      <td>0.003532</td>\n",
              "      <td>24.990</td>\n",
              "      <td>23.41</td>\n",
              "      <td>158.80</td>\n",
              "      <td>1956.0</td>\n",
              "      <td>0.12380</td>\n",
              "      <td>0.18660</td>\n",
              "      <td>0.2416</td>\n",
              "      <td>0.1860</td>\n",
              "      <td>0.2750</td>\n",
              "      <td>0.08902</td>\n",
              "      <td>NaN</td>\n",
              "    </tr>\n",
              "    <tr>\n",
              "      <th>2</th>\n",
              "      <td>84300903</td>\n",
              "      <td>M</td>\n",
              "      <td>19.69</td>\n",
              "      <td>21.25</td>\n",
              "      <td>130.00</td>\n",
              "      <td>1203.0</td>\n",
              "      <td>0.10960</td>\n",
              "      <td>0.15990</td>\n",
              "      <td>0.19740</td>\n",
              "      <td>0.12790</td>\n",
              "      <td>0.2069</td>\n",
              "      <td>0.05999</td>\n",
              "      <td>0.7456</td>\n",
              "      <td>0.7869</td>\n",
              "      <td>4.585</td>\n",
              "      <td>94.03</td>\n",
              "      <td>0.006150</td>\n",
              "      <td>0.04006</td>\n",
              "      <td>0.03832</td>\n",
              "      <td>0.02058</td>\n",
              "      <td>0.02250</td>\n",
              "      <td>0.004571</td>\n",
              "      <td>23.570</td>\n",
              "      <td>25.53</td>\n",
              "      <td>152.50</td>\n",
              "      <td>1709.0</td>\n",
              "      <td>0.14440</td>\n",
              "      <td>0.42450</td>\n",
              "      <td>0.4504</td>\n",
              "      <td>0.2430</td>\n",
              "      <td>0.3613</td>\n",
              "      <td>0.08758</td>\n",
              "      <td>NaN</td>\n",
              "    </tr>\n",
              "    <tr>\n",
              "      <th>3</th>\n",
              "      <td>84348301</td>\n",
              "      <td>M</td>\n",
              "      <td>11.42</td>\n",
              "      <td>20.38</td>\n",
              "      <td>77.58</td>\n",
              "      <td>386.1</td>\n",
              "      <td>0.14250</td>\n",
              "      <td>0.28390</td>\n",
              "      <td>0.24140</td>\n",
              "      <td>0.10520</td>\n",
              "      <td>0.2597</td>\n",
              "      <td>0.09744</td>\n",
              "      <td>0.4956</td>\n",
              "      <td>1.1560</td>\n",
              "      <td>3.445</td>\n",
              "      <td>27.23</td>\n",
              "      <td>0.009110</td>\n",
              "      <td>0.07458</td>\n",
              "      <td>0.05661</td>\n",
              "      <td>0.01867</td>\n",
              "      <td>0.05963</td>\n",
              "      <td>0.009208</td>\n",
              "      <td>14.910</td>\n",
              "      <td>26.50</td>\n",
              "      <td>98.87</td>\n",
              "      <td>567.7</td>\n",
              "      <td>0.20980</td>\n",
              "      <td>0.86630</td>\n",
              "      <td>0.6869</td>\n",
              "      <td>0.2575</td>\n",
              "      <td>0.6638</td>\n",
              "      <td>0.17300</td>\n",
              "      <td>NaN</td>\n",
              "    </tr>\n",
              "    <tr>\n",
              "      <th>4</th>\n",
              "      <td>84358402</td>\n",
              "      <td>M</td>\n",
              "      <td>20.29</td>\n",
              "      <td>14.34</td>\n",
              "      <td>135.10</td>\n",
              "      <td>1297.0</td>\n",
              "      <td>0.10030</td>\n",
              "      <td>0.13280</td>\n",
              "      <td>0.19800</td>\n",
              "      <td>0.10430</td>\n",
              "      <td>0.1809</td>\n",
              "      <td>0.05883</td>\n",
              "      <td>0.7572</td>\n",
              "      <td>0.7813</td>\n",
              "      <td>5.438</td>\n",
              "      <td>94.44</td>\n",
              "      <td>0.011490</td>\n",
              "      <td>0.02461</td>\n",
              "      <td>0.05688</td>\n",
              "      <td>0.01885</td>\n",
              "      <td>0.01756</td>\n",
              "      <td>0.005115</td>\n",
              "      <td>22.540</td>\n",
              "      <td>16.67</td>\n",
              "      <td>152.20</td>\n",
              "      <td>1575.0</td>\n",
              "      <td>0.13740</td>\n",
              "      <td>0.20500</td>\n",
              "      <td>0.4000</td>\n",
              "      <td>0.1625</td>\n",
              "      <td>0.2364</td>\n",
              "      <td>0.07678</td>\n",
              "      <td>NaN</td>\n",
              "    </tr>\n",
              "    <tr>\n",
              "      <th>...</th>\n",
              "      <td>...</td>\n",
              "      <td>...</td>\n",
              "      <td>...</td>\n",
              "      <td>...</td>\n",
              "      <td>...</td>\n",
              "      <td>...</td>\n",
              "      <td>...</td>\n",
              "      <td>...</td>\n",
              "      <td>...</td>\n",
              "      <td>...</td>\n",
              "      <td>...</td>\n",
              "      <td>...</td>\n",
              "      <td>...</td>\n",
              "      <td>...</td>\n",
              "      <td>...</td>\n",
              "      <td>...</td>\n",
              "      <td>...</td>\n",
              "      <td>...</td>\n",
              "      <td>...</td>\n",
              "      <td>...</td>\n",
              "      <td>...</td>\n",
              "      <td>...</td>\n",
              "      <td>...</td>\n",
              "      <td>...</td>\n",
              "      <td>...</td>\n",
              "      <td>...</td>\n",
              "      <td>...</td>\n",
              "      <td>...</td>\n",
              "      <td>...</td>\n",
              "      <td>...</td>\n",
              "      <td>...</td>\n",
              "      <td>...</td>\n",
              "      <td>...</td>\n",
              "    </tr>\n",
              "    <tr>\n",
              "      <th>564</th>\n",
              "      <td>926424</td>\n",
              "      <td>M</td>\n",
              "      <td>21.56</td>\n",
              "      <td>22.39</td>\n",
              "      <td>142.00</td>\n",
              "      <td>1479.0</td>\n",
              "      <td>0.11100</td>\n",
              "      <td>0.11590</td>\n",
              "      <td>0.24390</td>\n",
              "      <td>0.13890</td>\n",
              "      <td>0.1726</td>\n",
              "      <td>0.05623</td>\n",
              "      <td>1.1760</td>\n",
              "      <td>1.2560</td>\n",
              "      <td>7.673</td>\n",
              "      <td>158.70</td>\n",
              "      <td>0.010300</td>\n",
              "      <td>0.02891</td>\n",
              "      <td>0.05198</td>\n",
              "      <td>0.02454</td>\n",
              "      <td>0.01114</td>\n",
              "      <td>0.004239</td>\n",
              "      <td>25.450</td>\n",
              "      <td>26.40</td>\n",
              "      <td>166.10</td>\n",
              "      <td>2027.0</td>\n",
              "      <td>0.14100</td>\n",
              "      <td>0.21130</td>\n",
              "      <td>0.4107</td>\n",
              "      <td>0.2216</td>\n",
              "      <td>0.2060</td>\n",
              "      <td>0.07115</td>\n",
              "      <td>NaN</td>\n",
              "    </tr>\n",
              "    <tr>\n",
              "      <th>565</th>\n",
              "      <td>926682</td>\n",
              "      <td>M</td>\n",
              "      <td>20.13</td>\n",
              "      <td>28.25</td>\n",
              "      <td>131.20</td>\n",
              "      <td>1261.0</td>\n",
              "      <td>0.09780</td>\n",
              "      <td>0.10340</td>\n",
              "      <td>0.14400</td>\n",
              "      <td>0.09791</td>\n",
              "      <td>0.1752</td>\n",
              "      <td>0.05533</td>\n",
              "      <td>0.7655</td>\n",
              "      <td>2.4630</td>\n",
              "      <td>5.203</td>\n",
              "      <td>99.04</td>\n",
              "      <td>0.005769</td>\n",
              "      <td>0.02423</td>\n",
              "      <td>0.03950</td>\n",
              "      <td>0.01678</td>\n",
              "      <td>0.01898</td>\n",
              "      <td>0.002498</td>\n",
              "      <td>23.690</td>\n",
              "      <td>38.25</td>\n",
              "      <td>155.00</td>\n",
              "      <td>1731.0</td>\n",
              "      <td>0.11660</td>\n",
              "      <td>0.19220</td>\n",
              "      <td>0.3215</td>\n",
              "      <td>0.1628</td>\n",
              "      <td>0.2572</td>\n",
              "      <td>0.06637</td>\n",
              "      <td>NaN</td>\n",
              "    </tr>\n",
              "    <tr>\n",
              "      <th>566</th>\n",
              "      <td>926954</td>\n",
              "      <td>M</td>\n",
              "      <td>16.60</td>\n",
              "      <td>28.08</td>\n",
              "      <td>108.30</td>\n",
              "      <td>858.1</td>\n",
              "      <td>0.08455</td>\n",
              "      <td>0.10230</td>\n",
              "      <td>0.09251</td>\n",
              "      <td>0.05302</td>\n",
              "      <td>0.1590</td>\n",
              "      <td>0.05648</td>\n",
              "      <td>0.4564</td>\n",
              "      <td>1.0750</td>\n",
              "      <td>3.425</td>\n",
              "      <td>48.55</td>\n",
              "      <td>0.005903</td>\n",
              "      <td>0.03731</td>\n",
              "      <td>0.04730</td>\n",
              "      <td>0.01557</td>\n",
              "      <td>0.01318</td>\n",
              "      <td>0.003892</td>\n",
              "      <td>18.980</td>\n",
              "      <td>34.12</td>\n",
              "      <td>126.70</td>\n",
              "      <td>1124.0</td>\n",
              "      <td>0.11390</td>\n",
              "      <td>0.30940</td>\n",
              "      <td>0.3403</td>\n",
              "      <td>0.1418</td>\n",
              "      <td>0.2218</td>\n",
              "      <td>0.07820</td>\n",
              "      <td>NaN</td>\n",
              "    </tr>\n",
              "    <tr>\n",
              "      <th>567</th>\n",
              "      <td>927241</td>\n",
              "      <td>M</td>\n",
              "      <td>20.60</td>\n",
              "      <td>29.33</td>\n",
              "      <td>140.10</td>\n",
              "      <td>1265.0</td>\n",
              "      <td>0.11780</td>\n",
              "      <td>0.27700</td>\n",
              "      <td>0.35140</td>\n",
              "      <td>0.15200</td>\n",
              "      <td>0.2397</td>\n",
              "      <td>0.07016</td>\n",
              "      <td>0.7260</td>\n",
              "      <td>1.5950</td>\n",
              "      <td>5.772</td>\n",
              "      <td>86.22</td>\n",
              "      <td>0.006522</td>\n",
              "      <td>0.06158</td>\n",
              "      <td>0.07117</td>\n",
              "      <td>0.01664</td>\n",
              "      <td>0.02324</td>\n",
              "      <td>0.006185</td>\n",
              "      <td>25.740</td>\n",
              "      <td>39.42</td>\n",
              "      <td>184.60</td>\n",
              "      <td>1821.0</td>\n",
              "      <td>0.16500</td>\n",
              "      <td>0.86810</td>\n",
              "      <td>0.9387</td>\n",
              "      <td>0.2650</td>\n",
              "      <td>0.4087</td>\n",
              "      <td>0.12400</td>\n",
              "      <td>NaN</td>\n",
              "    </tr>\n",
              "    <tr>\n",
              "      <th>568</th>\n",
              "      <td>92751</td>\n",
              "      <td>B</td>\n",
              "      <td>7.76</td>\n",
              "      <td>24.54</td>\n",
              "      <td>47.92</td>\n",
              "      <td>181.0</td>\n",
              "      <td>0.05263</td>\n",
              "      <td>0.04362</td>\n",
              "      <td>0.00000</td>\n",
              "      <td>0.00000</td>\n",
              "      <td>0.1587</td>\n",
              "      <td>0.05884</td>\n",
              "      <td>0.3857</td>\n",
              "      <td>1.4280</td>\n",
              "      <td>2.548</td>\n",
              "      <td>19.15</td>\n",
              "      <td>0.007189</td>\n",
              "      <td>0.00466</td>\n",
              "      <td>0.00000</td>\n",
              "      <td>0.00000</td>\n",
              "      <td>0.02676</td>\n",
              "      <td>0.002783</td>\n",
              "      <td>9.456</td>\n",
              "      <td>30.37</td>\n",
              "      <td>59.16</td>\n",
              "      <td>268.6</td>\n",
              "      <td>0.08996</td>\n",
              "      <td>0.06444</td>\n",
              "      <td>0.0000</td>\n",
              "      <td>0.0000</td>\n",
              "      <td>0.2871</td>\n",
              "      <td>0.07039</td>\n",
              "      <td>NaN</td>\n",
              "    </tr>\n",
              "  </tbody>\n",
              "</table>\n",
              "<p>569 rows × 33 columns</p>\n",
              "</div>"
            ],
            "text/plain": [
              "           id diagnosis  ...  fractal_dimension_worst  Unnamed: 32\n",
              "0      842302         M  ...                  0.11890          NaN\n",
              "1      842517         M  ...                  0.08902          NaN\n",
              "2    84300903         M  ...                  0.08758          NaN\n",
              "3    84348301         M  ...                  0.17300          NaN\n",
              "4    84358402         M  ...                  0.07678          NaN\n",
              "..        ...       ...  ...                      ...          ...\n",
              "564    926424         M  ...                  0.07115          NaN\n",
              "565    926682         M  ...                  0.06637          NaN\n",
              "566    926954         M  ...                  0.07820          NaN\n",
              "567    927241         M  ...                  0.12400          NaN\n",
              "568     92751         B  ...                  0.07039          NaN\n",
              "\n",
              "[569 rows x 33 columns]"
            ]
          },
          "metadata": {
            "tags": []
          },
          "execution_count": 28
        }
      ]
    },
    {
      "cell_type": "code",
      "metadata": {
        "colab": {
          "base_uri": "https://localhost:8080/"
        },
        "id": "LohsxPQceJGj",
        "outputId": "aeec441f-7cc8-4ae1-96de-54ececc6d787"
      },
      "source": [
        "df.columns"
      ],
      "execution_count": 6,
      "outputs": [
        {
          "output_type": "execute_result",
          "data": {
            "text/plain": [
              "Index(['id', 'diagnosis', 'radius_mean', 'texture_mean', 'perimeter_mean',\n",
              "       'area_mean', 'smoothness_mean', 'compactness_mean', 'concavity_mean',\n",
              "       'concave points_mean', 'symmetry_mean', 'fractal_dimension_mean',\n",
              "       'radius_se', 'texture_se', 'perimeter_se', 'area_se', 'smoothness_se',\n",
              "       'compactness_se', 'concavity_se', 'concave points_se', 'symmetry_se',\n",
              "       'fractal_dimension_se', 'radius_worst', 'texture_worst',\n",
              "       'perimeter_worst', 'area_worst', 'smoothness_worst',\n",
              "       'compactness_worst', 'concavity_worst', 'concave points_worst',\n",
              "       'symmetry_worst', 'fractal_dimension_worst', 'Unnamed: 32'],\n",
              "      dtype='object')"
            ]
          },
          "metadata": {
            "tags": []
          },
          "execution_count": 6
        }
      ]
    },
    {
      "cell_type": "code",
      "metadata": {
        "colab": {
          "base_uri": "https://localhost:8080/"
        },
        "id": "ZeX6No93eQUJ",
        "outputId": "0f0ff639-0e87-45ff-9d87-adcb37972004"
      },
      "source": [
        "df.info()"
      ],
      "execution_count": 15,
      "outputs": [
        {
          "output_type": "stream",
          "text": [
            "<class 'pandas.core.frame.DataFrame'>\n",
            "RangeIndex: 569 entries, 0 to 568\n",
            "Data columns (total 33 columns):\n",
            " #   Column                   Non-Null Count  Dtype  \n",
            "---  ------                   --------------  -----  \n",
            " 0   id                       569 non-null    int64  \n",
            " 1   diagnosis                569 non-null    object \n",
            " 2   radius_mean              569 non-null    float64\n",
            " 3   texture_mean             569 non-null    float64\n",
            " 4   perimeter_mean           569 non-null    float64\n",
            " 5   area_mean                569 non-null    float64\n",
            " 6   smoothness_mean          569 non-null    float64\n",
            " 7   compactness_mean         569 non-null    float64\n",
            " 8   concavity_mean           569 non-null    float64\n",
            " 9   concave points_mean      569 non-null    float64\n",
            " 10  symmetry_mean            569 non-null    float64\n",
            " 11  fractal_dimension_mean   569 non-null    float64\n",
            " 12  radius_se                569 non-null    float64\n",
            " 13  texture_se               569 non-null    float64\n",
            " 14  perimeter_se             569 non-null    float64\n",
            " 15  area_se                  569 non-null    float64\n",
            " 16  smoothness_se            569 non-null    float64\n",
            " 17  compactness_se           569 non-null    float64\n",
            " 18  concavity_se             569 non-null    float64\n",
            " 19  concave points_se        569 non-null    float64\n",
            " 20  symmetry_se              569 non-null    float64\n",
            " 21  fractal_dimension_se     569 non-null    float64\n",
            " 22  radius_worst             569 non-null    float64\n",
            " 23  texture_worst            569 non-null    float64\n",
            " 24  perimeter_worst          569 non-null    float64\n",
            " 25  area_worst               569 non-null    float64\n",
            " 26  smoothness_worst         569 non-null    float64\n",
            " 27  compactness_worst        569 non-null    float64\n",
            " 28  concavity_worst          569 non-null    float64\n",
            " 29  concave points_worst     569 non-null    float64\n",
            " 30  symmetry_worst           569 non-null    float64\n",
            " 31  fractal_dimension_worst  569 non-null    float64\n",
            " 32  Unnamed: 32              0 non-null      float64\n",
            "dtypes: float64(31), int64(1), object(1)\n",
            "memory usage: 146.8+ KB\n"
          ],
          "name": "stdout"
        }
      ]
    },
    {
      "cell_type": "code",
      "metadata": {
        "colab": {
          "base_uri": "https://localhost:8080/",
          "height": 367
        },
        "id": "RF_hFs88eYuN",
        "outputId": "fc4c6eda-490b-4550-dbaa-cd4d9b2f5da4"
      },
      "source": [
        "sns.countplot(df['diagnosis'])\n",
        "B,M=df['diagnosis'].value_counts()\n",
        "print('Benign',B)\n",
        "print(\"Malignant\",M)\n",
        "\n",
        "plt.show()"
      ],
      "execution_count": 22,
      "outputs": [
        {
          "output_type": "stream",
          "text": [
            "Benign 357\n",
            "Malignant 212\n"
          ],
          "name": "stdout"
        },
        {
          "output_type": "stream",
          "text": [
            "/usr/local/lib/python3.7/dist-packages/seaborn/_decorators.py:43: FutureWarning: Pass the following variable as a keyword arg: x. From version 0.12, the only valid positional argument will be `data`, and passing other arguments without an explicit keyword will result in an error or misinterpretation.\n",
            "  FutureWarning\n"
          ],
          "name": "stderr"
        },
        {
          "output_type": "display_data",
          "data": {
            "image/png": "[encoded data removed]",
            "text/plain": [
              "<Figure size 432x288 with 1 Axes>"
            ]
          },
          "metadata": {
            "tags": [],
            "needs_background": "light"
          }
        }
      ]
    },
    {
      "cell_type": "code",
      "metadata": {
        "id": "AinQt1alhtQ-"
      },
      "source": [
        "del df['Unnamed: 32']"
      ],
      "execution_count": 29,
      "outputs": []
    },
    {
      "cell_type": "code",
      "metadata": {
        "id": "ROmeaNRVjI8W"
      },
      "source": [
        "X=df.iloc[:,2:].values\n",
        "y=df.iloc[:,1].values\n",
        "X_tolist = X.tolist()"
      ],
      "execution_count": 43,
      "outputs": []
    },
    {
      "cell_type": "code",
      "metadata": {
        "id": "W37Mm9tij-qY"
      },
      "source": [
        "from sklearn.preprocessing import StandardScaler,LabelEncoder\n",
        "labelencoder= LabelEncoder()"
      ],
      "execution_count": 44,
      "outputs": []
    },
    {
      "cell_type": "code",
      "metadata": {
        "id": "ZYfiI_72kA4L"
      },
      "source": [
        "y=labelencoder.fit_transform(y)"
      ],
      "execution_count": 45,
      "outputs": []
    },
    {
      "cell_type": "code",
      "metadata": {
        "id": "7YwRg3qCkGW_"
      },
      "source": [
        "from sklearn.model_selection import train_test_split"
      ],
      "execution_count": 46,
      "outputs": []
    },
    {
      "cell_type": "code",
      "metadata": {
        "id": "GsEei8vFkRZR"
      },
      "source": [
        "x_train,x_test,y_train,y_test= train_test_split(X,y, test_size=0.2, random_state=100)"
      ],
      "execution_count": 73,
      "outputs": []
    },
    {
      "cell_type": "code",
      "metadata": {
        "id": "axLxWGrpkzhc"
      },
      "source": [
        "sc=StandardScaler()"
      ],
      "execution_count": 74,
      "outputs": []
    },
    {
      "cell_type": "code",
      "metadata": {
        "id": "_R2A8cVTlO9t"
      },
      "source": [
        "x_train=sc.fit_transform(x_train)\n",
        "x_test=sc.transform(x_test)"
      ],
      "execution_count": 75,
      "outputs": []
    },
    {
      "cell_type": "code",
      "metadata": {
        "colab": {
          "base_uri": "https://localhost:8080/"
        },
        "id": "4oo3qxM3lYJs",
        "outputId": "a6ce0b18-100d-4f3d-b32a-01c7fee784ae"
      },
      "source": [
        "x_train"
      ],
      "execution_count": 76,
      "outputs": [
        {
          "output_type": "execute_result",
          "data": {
            "text/plain": [
              "array([[-0.27914259,  0.01254364, -0.36045284, ..., -1.59146871,\n",
              "        -0.75525301, -1.19510832],\n",
              "       [-0.32838043,  2.26039928, -0.36509258, ..., -0.74909183,\n",
              "        -0.87172233, -0.64301263],\n",
              "       [ 0.50287016, -0.00850808,  0.67252257, ...,  1.57628782,\n",
              "         2.38420358,  1.2444247 ],\n",
              "       ...,\n",
              "       [-0.68173433, -0.51141023, -0.73627198, ..., -1.09828224,\n",
              "        -0.24765538, -0.8845907 ],\n",
              "       [-0.33417311, -0.29387581, -0.33598874, ..., -0.52480233,\n",
              "        -0.16421467, -0.25138966],\n",
              "       [-1.36671957, -1.25289851, -1.315818  , ..., -0.62872991,\n",
              "         1.40377528,  0.36501099]])"
            ]
          },
          "metadata": {
            "tags": []
          },
          "execution_count": 76
        }
      ]
    },
    {
      "cell_type": "code",
      "metadata": {
        "colab": {
          "base_uri": "https://localhost:8080/"
        },
        "id": "R_ThXbcelb9c",
        "outputId": "3de4cd65-0889-45c5-e38a-01dca9adf29f"
      },
      "source": [
        "pip install keras"
      ],
      "execution_count": 77,
      "outputs": [
        {
          "output_type": "stream",
          "text": [
            "Requirement already satisfied: keras in /usr/local/lib/python3.7/dist-packages (2.4.3)\n",
            "Requirement already satisfied: numpy>=1.9.1 in /usr/local/lib/python3.7/dist-packages (from keras) (1.19.5)\n",
            "Requirement already satisfied: h5py in /usr/local/lib/python3.7/dist-packages (from keras) (3.1.0)\n",
            "Requirement already satisfied: pyyaml in /usr/local/lib/python3.7/dist-packages (from keras) (3.13)\n",
            "Requirement already satisfied: scipy>=0.14 in /usr/local/lib/python3.7/dist-packages (from keras) (1.4.1)\n",
            "Requirement already satisfied: cached-property in /usr/local/lib/python3.7/dist-packages (from h5py->keras) (1.5.2)\n"
          ],
          "name": "stdout"
        }
      ]
    },
    {
      "cell_type": "code",
      "metadata": {
        "id": "Nc4wMPG_miXw"
      },
      "source": [
        "import keras\n",
        "from keras.models import Sequential\n",
        "from keras.layers import Dense"
      ],
      "execution_count": 78,
      "outputs": []
    },
    {
      "cell_type": "code",
      "metadata": {
        "id": "nauP1w-HnT-t"
      },
      "source": [
        "#adding the input and first hiddeb layer\n",
        "classifier=Sequential()\n",
        "classifier.add( Dense(units=16,kernel_initializer='uniform', activation='relu', input_dim=30))\n",
        "classifier.add(Dense(units=16,kernel_initializer='uniform', activation='relu'))\n",
        "classifier.add(Dense(units=1,kernel_initializer='uniform',  activation='sigmoid'))\n"
      ],
      "execution_count": 79,
      "outputs": []
    },
    {
      "cell_type": "code",
      "metadata": {
        "id": "PHJKU9nJpWr8"
      },
      "source": [
        "classifier.compile(optimizer='Adam',loss='binary_crossentropy',metrics=['accuracy'])"
      ],
      "execution_count": 80,
      "outputs": []
    },
    {
      "cell_type": "code",
      "metadata": {
        "colab": {
          "base_uri": "https://localhost:8080/"
        },
        "id": "9jNADAqyr4bZ",
        "outputId": "4f99799e-7e3a-4951-a3ec-426f8a619905"
      },
      "source": [
        "classifier.fit(x_train,y_train, batch_size=100,epochs=150)"
      ],
      "execution_count": 81,
      "outputs": [
        {
          "output_type": "stream",
          "text": [
            "Epoch 1/150\n",
            "5/5 [==============================] - 1s 3ms/step - loss: 0.6932 - accuracy: 0.4251\n",
            "Epoch 2/150\n",
            "5/5 [==============================] - 0s 3ms/step - loss: 0.6915 - accuracy: 0.6869\n",
            "Epoch 3/150\n",
            "5/5 [==============================] - 0s 3ms/step - loss: 0.6894 - accuracy: 0.7166\n",
            "Epoch 4/150\n",
            "5/5 [==============================] - 0s 3ms/step - loss: 0.6863 - accuracy: 0.8096\n",
            "Epoch 5/150\n",
            "5/5 [==============================] - 0s 3ms/step - loss: 0.6818 - accuracy: 0.8740\n",
            "Epoch 6/150\n",
            "5/5 [==============================] - 0s 3ms/step - loss: 0.6760 - accuracy: 0.9248\n",
            "Epoch 7/150\n",
            "5/5 [==============================] - 0s 4ms/step - loss: 0.6673 - accuracy: 0.9435\n",
            "Epoch 8/150\n",
            "5/5 [==============================] - 0s 4ms/step - loss: 0.6565 - accuracy: 0.9188\n",
            "Epoch 9/150\n",
            "5/5 [==============================] - 0s 3ms/step - loss: 0.6398 - accuracy: 0.9507\n",
            "Epoch 10/150\n",
            "5/5 [==============================] - 0s 4ms/step - loss: 0.6173 - accuracy: 0.9490\n",
            "Epoch 11/150\n",
            "5/5 [==============================] - 0s 4ms/step - loss: 0.5962 - accuracy: 0.9387\n",
            "Epoch 12/150\n",
            "5/5 [==============================] - 0s 3ms/step - loss: 0.5672 - accuracy: 0.9258\n",
            "Epoch 13/150\n",
            "5/5 [==============================] - 0s 3ms/step - loss: 0.5281 - accuracy: 0.9468\n",
            "Epoch 14/150\n",
            "5/5 [==============================] - 0s 4ms/step - loss: 0.4937 - accuracy: 0.9357\n",
            "Epoch 15/150\n",
            "5/5 [==============================] - 0s 3ms/step - loss: 0.4477 - accuracy: 0.9545\n",
            "Epoch 16/150\n",
            "5/5 [==============================] - 0s 4ms/step - loss: 0.4149 - accuracy: 0.9334\n",
            "Epoch 17/150\n",
            "5/5 [==============================] - 0s 4ms/step - loss: 0.3738 - accuracy: 0.9418\n",
            "Epoch 18/150\n",
            "5/5 [==============================] - 0s 4ms/step - loss: 0.3328 - accuracy: 0.9396\n",
            "Epoch 19/150\n",
            "5/5 [==============================] - 0s 4ms/step - loss: 0.2926 - accuracy: 0.9550\n",
            "Epoch 20/150\n",
            "5/5 [==============================] - 0s 4ms/step - loss: 0.2637 - accuracy: 0.9535\n",
            "Epoch 21/150\n",
            "5/5 [==============================] - 0s 5ms/step - loss: 0.2365 - accuracy: 0.9618\n",
            "Epoch 22/150\n",
            "5/5 [==============================] - 0s 4ms/step - loss: 0.2090 - accuracy: 0.9664\n",
            "Epoch 23/150\n",
            "5/5 [==============================] - 0s 4ms/step - loss: 0.1998 - accuracy: 0.9607\n",
            "Epoch 24/150\n",
            "5/5 [==============================] - 0s 4ms/step - loss: 0.1873 - accuracy: 0.9660\n",
            "Epoch 25/150\n",
            "5/5 [==============================] - 0s 7ms/step - loss: 0.1822 - accuracy: 0.9541\n",
            "Epoch 26/150\n",
            "5/5 [==============================] - 0s 3ms/step - loss: 0.1558 - accuracy: 0.9651\n",
            "Epoch 27/150\n",
            "5/5 [==============================] - 0s 5ms/step - loss: 0.1387 - accuracy: 0.9752\n",
            "Epoch 28/150\n",
            "5/5 [==============================] - 0s 6ms/step - loss: 0.1386 - accuracy: 0.9684\n",
            "Epoch 29/150\n",
            "5/5 [==============================] - 0s 5ms/step - loss: 0.1257 - accuracy: 0.9738\n",
            "Epoch 30/150\n",
            "5/5 [==============================] - 0s 4ms/step - loss: 0.1163 - accuracy: 0.9754\n",
            "Epoch 31/150\n",
            "5/5 [==============================] - 0s 5ms/step - loss: 0.1157 - accuracy: 0.9783\n",
            "Epoch 32/150\n",
            "5/5 [==============================] - 0s 4ms/step - loss: 0.1254 - accuracy: 0.9756\n",
            "Epoch 33/150\n",
            "5/5 [==============================] - 0s 6ms/step - loss: 0.1153 - accuracy: 0.9692\n",
            "Epoch 34/150\n",
            "5/5 [==============================] - 0s 6ms/step - loss: 0.1066 - accuracy: 0.9689\n",
            "Epoch 35/150\n",
            "5/5 [==============================] - 0s 5ms/step - loss: 0.0965 - accuracy: 0.9719\n",
            "Epoch 36/150\n",
            "5/5 [==============================] - 0s 4ms/step - loss: 0.0912 - accuracy: 0.9719\n",
            "Epoch 37/150\n",
            "5/5 [==============================] - 0s 4ms/step - loss: 0.0926 - accuracy: 0.9775\n",
            "Epoch 38/150\n",
            "5/5 [==============================] - 0s 6ms/step - loss: 0.0832 - accuracy: 0.9785\n",
            "Epoch 39/150\n",
            "5/5 [==============================] - 0s 4ms/step - loss: 0.0835 - accuracy: 0.9792\n",
            "Epoch 40/150\n",
            "5/5 [==============================] - 0s 4ms/step - loss: 0.0848 - accuracy: 0.9796\n",
            "Epoch 41/150\n",
            "5/5 [==============================] - 0s 4ms/step - loss: 0.0798 - accuracy: 0.9753\n",
            "Epoch 42/150\n",
            "5/5 [==============================] - 0s 3ms/step - loss: 0.0800 - accuracy: 0.9809\n",
            "Epoch 43/150\n",
            "5/5 [==============================] - 0s 6ms/step - loss: 0.0767 - accuracy: 0.9784\n",
            "Epoch 44/150\n",
            "5/5 [==============================] - 0s 4ms/step - loss: 0.0734 - accuracy: 0.9823\n",
            "Epoch 45/150\n",
            "5/5 [==============================] - 0s 3ms/step - loss: 0.0648 - accuracy: 0.9830\n",
            "Epoch 46/150\n",
            "5/5 [==============================] - 0s 3ms/step - loss: 0.0716 - accuracy: 0.9843\n",
            "Epoch 47/150\n",
            "5/5 [==============================] - 0s 8ms/step - loss: 0.0706 - accuracy: 0.9808\n",
            "Epoch 48/150\n",
            "5/5 [==============================] - 0s 6ms/step - loss: 0.0570 - accuracy: 0.9854\n",
            "Epoch 49/150\n",
            "5/5 [==============================] - 0s 4ms/step - loss: 0.0683 - accuracy: 0.9836\n",
            "Epoch 50/150\n",
            "5/5 [==============================] - 0s 3ms/step - loss: 0.0530 - accuracy: 0.9903\n",
            "Epoch 51/150\n",
            "5/5 [==============================] - 0s 4ms/step - loss: 0.0619 - accuracy: 0.9849\n",
            "Epoch 52/150\n",
            "5/5 [==============================] - 0s 6ms/step - loss: 0.0771 - accuracy: 0.9772\n",
            "Epoch 53/150\n",
            "5/5 [==============================] - 0s 4ms/step - loss: 0.0612 - accuracy: 0.9833\n",
            "Epoch 54/150\n",
            "5/5 [==============================] - 0s 6ms/step - loss: 0.0598 - accuracy: 0.9864\n",
            "Epoch 55/150\n",
            "5/5 [==============================] - 0s 4ms/step - loss: 0.0668 - accuracy: 0.9831\n",
            "Epoch 56/150\n",
            "5/5 [==============================] - 0s 3ms/step - loss: 0.0558 - accuracy: 0.9859\n",
            "Epoch 57/150\n",
            "5/5 [==============================] - 0s 3ms/step - loss: 0.0633 - accuracy: 0.9863\n",
            "Epoch 58/150\n",
            "5/5 [==============================] - 0s 3ms/step - loss: 0.0532 - accuracy: 0.9866\n",
            "Epoch 59/150\n",
            "5/5 [==============================] - 0s 4ms/step - loss: 0.0496 - accuracy: 0.9881\n",
            "Epoch 60/150\n",
            "5/5 [==============================] - 0s 4ms/step - loss: 0.0517 - accuracy: 0.9867\n",
            "Epoch 61/150\n",
            "5/5 [==============================] - 0s 4ms/step - loss: 0.0548 - accuracy: 0.9866\n",
            "Epoch 62/150\n",
            "5/5 [==============================] - 0s 4ms/step - loss: 0.0660 - accuracy: 0.9813\n",
            "Epoch 63/150\n",
            "5/5 [==============================] - 0s 4ms/step - loss: 0.0521 - accuracy: 0.9880\n",
            "Epoch 64/150\n",
            "5/5 [==============================] - 0s 3ms/step - loss: 0.0506 - accuracy: 0.9853\n",
            "Epoch 65/150\n",
            "5/5 [==============================] - 0s 3ms/step - loss: 0.0584 - accuracy: 0.9833\n",
            "Epoch 66/150\n",
            "5/5 [==============================] - 0s 3ms/step - loss: 0.0567 - accuracy: 0.9800\n",
            "Epoch 67/150\n",
            "5/5 [==============================] - 0s 3ms/step - loss: 0.0561 - accuracy: 0.9813\n",
            "Epoch 68/150\n",
            "5/5 [==============================] - 0s 4ms/step - loss: 0.0461 - accuracy: 0.9832\n",
            "Epoch 69/150\n",
            "5/5 [==============================] - 0s 4ms/step - loss: 0.0471 - accuracy: 0.9861\n",
            "Epoch 70/150\n",
            "5/5 [==============================] - 0s 5ms/step - loss: 0.0591 - accuracy: 0.9841\n",
            "Epoch 71/150\n",
            "5/5 [==============================] - 0s 5ms/step - loss: 0.0404 - accuracy: 0.9898\n",
            "Epoch 72/150\n",
            "5/5 [==============================] - 0s 3ms/step - loss: 0.0518 - accuracy: 0.9862\n",
            "Epoch 73/150\n",
            "5/5 [==============================] - 0s 4ms/step - loss: 0.0491 - accuracy: 0.9880\n",
            "Epoch 74/150\n",
            "5/5 [==============================] - 0s 4ms/step - loss: 0.0466 - accuracy: 0.9871\n",
            "Epoch 75/150\n",
            "5/5 [==============================] - 0s 4ms/step - loss: 0.0400 - accuracy: 0.9869\n",
            "Epoch 76/150\n",
            "5/5 [==============================] - 0s 7ms/step - loss: 0.0450 - accuracy: 0.9869\n",
            "Epoch 77/150\n",
            "5/5 [==============================] - 0s 4ms/step - loss: 0.0341 - accuracy: 0.9869\n",
            "Epoch 78/150\n",
            "5/5 [==============================] - 0s 4ms/step - loss: 0.0551 - accuracy: 0.9789\n",
            "Epoch 79/150\n",
            "5/5 [==============================] - 0s 4ms/step - loss: 0.0420 - accuracy: 0.9870\n",
            "Epoch 80/150\n",
            "5/5 [==============================] - 0s 3ms/step - loss: 0.0358 - accuracy: 0.9863\n",
            "Epoch 81/150\n",
            "5/5 [==============================] - 0s 3ms/step - loss: 0.0542 - accuracy: 0.9872\n",
            "Epoch 82/150\n",
            "5/5 [==============================] - 0s 4ms/step - loss: 0.0497 - accuracy: 0.9897\n",
            "Epoch 83/150\n",
            "5/5 [==============================] - 0s 4ms/step - loss: 0.0349 - accuracy: 0.9911\n",
            "Epoch 84/150\n",
            "5/5 [==============================] - 0s 4ms/step - loss: 0.0444 - accuracy: 0.9865\n",
            "Epoch 85/150\n",
            "5/5 [==============================] - 0s 5ms/step - loss: 0.0432 - accuracy: 0.9883\n",
            "Epoch 86/150\n",
            "5/5 [==============================] - 0s 4ms/step - loss: 0.0351 - accuracy: 0.9956\n",
            "Epoch 87/150\n",
            "5/5 [==============================] - 0s 5ms/step - loss: 0.0450 - accuracy: 0.9921\n",
            "Epoch 88/150\n",
            "5/5 [==============================] - 0s 3ms/step - loss: 0.0437 - accuracy: 0.9924\n",
            "Epoch 89/150\n",
            "5/5 [==============================] - 0s 4ms/step - loss: 0.0445 - accuracy: 0.9910\n",
            "Epoch 90/150\n",
            "5/5 [==============================] - 0s 4ms/step - loss: 0.0337 - accuracy: 0.9930\n",
            "Epoch 91/150\n",
            "5/5 [==============================] - 0s 4ms/step - loss: 0.0256 - accuracy: 0.9962\n",
            "Epoch 92/150\n",
            "5/5 [==============================] - 0s 4ms/step - loss: 0.0367 - accuracy: 0.9912\n",
            "Epoch 93/150\n",
            "5/5 [==============================] - 0s 3ms/step - loss: 0.0366 - accuracy: 0.9914\n",
            "Epoch 94/150\n",
            "5/5 [==============================] - 0s 3ms/step - loss: 0.0385 - accuracy: 0.9921\n",
            "Epoch 95/150\n",
            "5/5 [==============================] - 0s 4ms/step - loss: 0.0423 - accuracy: 0.9929\n",
            "Epoch 96/150\n",
            "5/5 [==============================] - 0s 4ms/step - loss: 0.0374 - accuracy: 0.9943\n",
            "Epoch 97/150\n",
            "5/5 [==============================] - 0s 4ms/step - loss: 0.0553 - accuracy: 0.9874\n",
            "Epoch 98/150\n",
            "5/5 [==============================] - 0s 4ms/step - loss: 0.0259 - accuracy: 0.9964\n",
            "Epoch 99/150\n",
            "5/5 [==============================] - 0s 3ms/step - loss: 0.0342 - accuracy: 0.9941\n",
            "Epoch 100/150\n",
            "5/5 [==============================] - 0s 4ms/step - loss: 0.0427 - accuracy: 0.9916\n",
            "Epoch 101/150\n",
            "5/5 [==============================] - 0s 3ms/step - loss: 0.0378 - accuracy: 0.9924\n",
            "Epoch 102/150\n",
            "5/5 [==============================] - 0s 4ms/step - loss: 0.0380 - accuracy: 0.9921\n",
            "Epoch 103/150\n",
            "5/5 [==============================] - 0s 4ms/step - loss: 0.0450 - accuracy: 0.9916\n",
            "Epoch 104/150\n",
            "5/5 [==============================] - 0s 4ms/step - loss: 0.0385 - accuracy: 0.9924\n",
            "Epoch 105/150\n",
            "5/5 [==============================] - 0s 4ms/step - loss: 0.0363 - accuracy: 0.9934\n",
            "Epoch 106/150\n",
            "5/5 [==============================] - 0s 3ms/step - loss: 0.0389 - accuracy: 0.9932\n",
            "Epoch 107/150\n",
            "5/5 [==============================] - 0s 3ms/step - loss: 0.0298 - accuracy: 0.9954\n",
            "Epoch 108/150\n",
            "5/5 [==============================] - 0s 3ms/step - loss: 0.0392 - accuracy: 0.9925\n",
            "Epoch 109/150\n",
            "5/5 [==============================] - 0s 3ms/step - loss: 0.0389 - accuracy: 0.9924\n",
            "Epoch 110/150\n",
            "5/5 [==============================] - 0s 3ms/step - loss: 0.0236 - accuracy: 0.9974\n",
            "Epoch 111/150\n",
            "5/5 [==============================] - 0s 3ms/step - loss: 0.0396 - accuracy: 0.9925\n",
            "Epoch 112/150\n",
            "5/5 [==============================] - 0s 3ms/step - loss: 0.0359 - accuracy: 0.9934\n",
            "Epoch 113/150\n",
            "5/5 [==============================] - 0s 5ms/step - loss: 0.0304 - accuracy: 0.9946\n",
            "Epoch 114/150\n",
            "5/5 [==============================] - 0s 3ms/step - loss: 0.0233 - accuracy: 0.9970\n",
            "Epoch 115/150\n",
            "5/5 [==============================] - 0s 3ms/step - loss: 0.0294 - accuracy: 0.9946\n",
            "Epoch 116/150\n",
            "5/5 [==============================] - 0s 3ms/step - loss: 0.0272 - accuracy: 0.9954\n",
            "Epoch 117/150\n",
            "5/5 [==============================] - 0s 3ms/step - loss: 0.0322 - accuracy: 0.9942\n",
            "Epoch 118/150\n",
            "5/5 [==============================] - 0s 4ms/step - loss: 0.0392 - accuracy: 0.9916\n",
            "Epoch 119/150\n",
            "5/5 [==============================] - 0s 3ms/step - loss: 0.0368 - accuracy: 0.9921\n",
            "Epoch 120/150\n",
            "5/5 [==============================] - 0s 3ms/step - loss: 0.0410 - accuracy: 0.9916\n",
            "Epoch 121/150\n",
            "5/5 [==============================] - 0s 4ms/step - loss: 0.0355 - accuracy: 0.9921\n",
            "Epoch 122/150\n",
            "5/5 [==============================] - 0s 3ms/step - loss: 0.0305 - accuracy: 0.9938\n",
            "Epoch 123/150\n",
            "5/5 [==============================] - 0s 3ms/step - loss: 0.0292 - accuracy: 0.9929\n",
            "Epoch 124/150\n",
            "5/5 [==============================] - 0s 4ms/step - loss: 0.0374 - accuracy: 0.9907\n",
            "Epoch 125/150\n",
            "5/5 [==============================] - 0s 4ms/step - loss: 0.0297 - accuracy: 0.9934\n",
            "Epoch 126/150\n",
            "5/5 [==============================] - 0s 3ms/step - loss: 0.0382 - accuracy: 0.9916\n",
            "Epoch 127/150\n",
            "5/5 [==============================] - 0s 3ms/step - loss: 0.0333 - accuracy: 0.9932\n",
            "Epoch 128/150\n",
            "5/5 [==============================] - 0s 5ms/step - loss: 0.0274 - accuracy: 0.9946\n",
            "Epoch 129/150\n",
            "5/5 [==============================] - 0s 3ms/step - loss: 0.0381 - accuracy: 0.9907\n",
            "Epoch 130/150\n",
            "5/5 [==============================] - 0s 3ms/step - loss: 0.0313 - accuracy: 0.9932\n",
            "Epoch 131/150\n",
            "5/5 [==============================] - 0s 3ms/step - loss: 0.0261 - accuracy: 0.9954\n",
            "Epoch 132/150\n",
            "5/5 [==============================] - 0s 3ms/step - loss: 0.0329 - accuracy: 0.9939\n",
            "Epoch 133/150\n",
            "5/5 [==============================] - 0s 4ms/step - loss: 0.0276 - accuracy: 0.9938\n",
            "Epoch 134/150\n",
            "5/5 [==============================] - 0s 3ms/step - loss: 0.0255 - accuracy: 0.9952\n",
            "Epoch 135/150\n",
            "5/5 [==============================] - 0s 5ms/step - loss: 0.0302 - accuracy: 0.9924\n",
            "Epoch 136/150\n",
            "5/5 [==============================] - 0s 4ms/step - loss: 0.0253 - accuracy: 0.9946\n",
            "Epoch 137/150\n",
            "5/5 [==============================] - 0s 3ms/step - loss: 0.0204 - accuracy: 0.9960\n",
            "Epoch 138/150\n",
            "5/5 [==============================] - 0s 5ms/step - loss: 0.0403 - accuracy: 0.9904\n",
            "Epoch 139/150\n",
            "5/5 [==============================] - 0s 4ms/step - loss: 0.0264 - accuracy: 0.9942\n",
            "Epoch 140/150\n",
            "5/5 [==============================] - 0s 3ms/step - loss: 0.0239 - accuracy: 0.9954\n",
            "Epoch 141/150\n",
            "5/5 [==============================] - 0s 4ms/step - loss: 0.0304 - accuracy: 0.9934\n",
            "Epoch 142/150\n",
            "5/5 [==============================] - 0s 4ms/step - loss: 0.0189 - accuracy: 0.9968\n",
            "Epoch 143/150\n",
            "5/5 [==============================] - 0s 3ms/step - loss: 0.0263 - accuracy: 0.9935\n",
            "Epoch 144/150\n",
            "5/5 [==============================] - 0s 3ms/step - loss: 0.0356 - accuracy: 0.9904\n",
            "Epoch 145/150\n",
            "5/5 [==============================] - 0s 3ms/step - loss: 0.0233 - accuracy: 0.9946\n",
            "Epoch 146/150\n",
            "5/5 [==============================] - 0s 3ms/step - loss: 0.0350 - accuracy: 0.9899\n",
            "Epoch 147/150\n",
            "5/5 [==============================] - 0s 3ms/step - loss: 0.0235 - accuracy: 0.9946\n",
            "Epoch 148/150\n",
            "5/5 [==============================] - 0s 3ms/step - loss: 0.0185 - accuracy: 0.9964\n",
            "Epoch 149/150\n",
            "5/5 [==============================] - 0s 3ms/step - loss: 0.0261 - accuracy: 0.9938\n",
            "Epoch 150/150\n",
            "5/5 [==============================] - 0s 4ms/step - loss: 0.0211 - accuracy: 0.9952\n"
          ],
          "name": "stdout"
        },
        {
          "output_type": "execute_result",
          "data": {
            "text/plain": [
              "<keras.callbacks.History at 0x7f417c3a2850>"
            ]
          },
          "metadata": {
            "tags": []
          },
          "execution_count": 81
        }
      ]
    },
    {
      "cell_type": "code",
      "metadata": {
        "id": "ar-2SayJsFur"
      },
      "source": [
        "y_pred=classifier.predict(x_test)\n",
        "y_pred=(y_pred>0.5)"
      ],
      "execution_count": 82,
      "outputs": []
    },
    {
      "cell_type": "code",
      "metadata": {
        "id": "c_HAV_GsstdH"
      },
      "source": [
        "from sklearn.metrics import confusion_matrix"
      ],
      "execution_count": 83,
      "outputs": []
    },
    {
      "cell_type": "code",
      "metadata": {
        "id": "LL4GW5Fas2OD"
      },
      "source": [
        "cm=confusion_matrix(y_test,y_pred)"
      ],
      "execution_count": 84,
      "outputs": []
    },
    {
      "cell_type": "code",
      "metadata": {
        "colab": {
          "base_uri": "https://localhost:8080/",
          "height": 265
        },
        "id": "MytuRbC5s8R0",
        "outputId": "0c6c12a2-0ed9-419b-beaa-682722074dee"
      },
      "source": [
        "sns.heatmap(cm, annot=True)\n",
        "plt.savefig('h.png')"
      ],
      "execution_count": 85,
      "outputs": [
        {
          "output_type": "display_data",
          "data": {
            "image/png": "[encoded data removed]",
            "text/plain": [
              "<Figure size 432x288 with 2 Axes>"
            ]
          },
          "metadata": {
            "tags": [],
            "needs_background": "light"
          }
        }
      ]
    },
    {
      "cell_type": "code",
      "metadata": {
        "id": "r8R8MhKatKKt"
      },
      "source": [
        ""
      ],
      "execution_count": null,
      "outputs": []
    }
  ]
}