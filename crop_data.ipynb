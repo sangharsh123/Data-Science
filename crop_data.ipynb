{
 "cells": [
  {
   "cell_type": "code",
   "execution_count": 93,
   "id": "2efc3c28",
   "metadata": {
    "ExecuteTime": {
     "end_time": "2021-07-17T13:52:39.604870Z",
     "start_time": "2021-07-17T13:52:39.593390Z"
    }
   },
   "outputs": [],
   "source": [
    "import pandas as pd\n",
    "import numpy as np\n",
    "import seaborn as sns\n",
    "import matplotlib.pyplot as plt\n",
    "from ipywidgets import interact"
   ]
  },
  {
   "cell_type": "code",
   "execution_count": 94,
   "id": "b7c0cecc",
   "metadata": {
    "ExecuteTime": {
     "end_time": "2021-07-17T13:52:40.676133Z",
     "start_time": "2021-07-17T13:52:40.548869Z"
    }
   },
   "outputs": [
    {
     "data": {
      "text/html": [
       "<div>\n",
       "<style scoped>\n",
       "    .dataframe tbody tr th:only-of-type {\n",
       "        vertical-align: middle;\n",
       "    }\n",
       "\n",
       "    .dataframe tbody tr th {\n",
       "        vertical-align: top;\n",
       "    }\n",
       "\n",
       "    .dataframe thead th {\n",
       "        text-align: right;\n",
       "    }\n",
       "</style>\n",
       "<table border=\"1\" class=\"dataframe\">\n",
       "  <thead>\n",
       "    <tr style=\"text-align: right;\">\n",
       "      <th></th>\n",
       "      <th>N</th>\n",
       "      <th>P</th>\n",
       "      <th>K</th>\n",
       "      <th>temperature</th>\n",
       "      <th>humidity</th>\n",
       "      <th>ph</th>\n",
       "      <th>rainfall</th>\n",
       "      <th>label</th>\n",
       "    </tr>\n",
       "  </thead>\n",
       "  <tbody>\n",
       "    <tr>\n",
       "      <th>0</th>\n",
       "      <td>90</td>\n",
       "      <td>42</td>\n",
       "      <td>43</td>\n",
       "      <td>20.879744</td>\n",
       "      <td>82.002744</td>\n",
       "      <td>6.502985</td>\n",
       "      <td>202.935536</td>\n",
       "      <td>rice</td>\n",
       "    </tr>\n",
       "    <tr>\n",
       "      <th>1</th>\n",
       "      <td>85</td>\n",
       "      <td>58</td>\n",
       "      <td>41</td>\n",
       "      <td>21.770462</td>\n",
       "      <td>80.319644</td>\n",
       "      <td>7.038096</td>\n",
       "      <td>226.655537</td>\n",
       "      <td>rice</td>\n",
       "    </tr>\n",
       "    <tr>\n",
       "      <th>2</th>\n",
       "      <td>60</td>\n",
       "      <td>55</td>\n",
       "      <td>44</td>\n",
       "      <td>23.004459</td>\n",
       "      <td>82.320763</td>\n",
       "      <td>7.840207</td>\n",
       "      <td>263.964248</td>\n",
       "      <td>rice</td>\n",
       "    </tr>\n",
       "    <tr>\n",
       "      <th>3</th>\n",
       "      <td>74</td>\n",
       "      <td>35</td>\n",
       "      <td>40</td>\n",
       "      <td>26.491096</td>\n",
       "      <td>80.158363</td>\n",
       "      <td>6.980401</td>\n",
       "      <td>242.864034</td>\n",
       "      <td>rice</td>\n",
       "    </tr>\n",
       "    <tr>\n",
       "      <th>4</th>\n",
       "      <td>78</td>\n",
       "      <td>42</td>\n",
       "      <td>42</td>\n",
       "      <td>20.130175</td>\n",
       "      <td>81.604873</td>\n",
       "      <td>7.628473</td>\n",
       "      <td>262.717340</td>\n",
       "      <td>rice</td>\n",
       "    </tr>\n",
       "    <tr>\n",
       "      <th>...</th>\n",
       "      <td>...</td>\n",
       "      <td>...</td>\n",
       "      <td>...</td>\n",
       "      <td>...</td>\n",
       "      <td>...</td>\n",
       "      <td>...</td>\n",
       "      <td>...</td>\n",
       "      <td>...</td>\n",
       "    </tr>\n",
       "    <tr>\n",
       "      <th>2195</th>\n",
       "      <td>107</td>\n",
       "      <td>34</td>\n",
       "      <td>32</td>\n",
       "      <td>26.774637</td>\n",
       "      <td>66.413269</td>\n",
       "      <td>6.780064</td>\n",
       "      <td>177.774507</td>\n",
       "      <td>coffee</td>\n",
       "    </tr>\n",
       "    <tr>\n",
       "      <th>2196</th>\n",
       "      <td>99</td>\n",
       "      <td>15</td>\n",
       "      <td>27</td>\n",
       "      <td>27.417112</td>\n",
       "      <td>56.636362</td>\n",
       "      <td>6.086922</td>\n",
       "      <td>127.924610</td>\n",
       "      <td>coffee</td>\n",
       "    </tr>\n",
       "    <tr>\n",
       "      <th>2197</th>\n",
       "      <td>118</td>\n",
       "      <td>33</td>\n",
       "      <td>30</td>\n",
       "      <td>24.131797</td>\n",
       "      <td>67.225123</td>\n",
       "      <td>6.362608</td>\n",
       "      <td>173.322839</td>\n",
       "      <td>coffee</td>\n",
       "    </tr>\n",
       "    <tr>\n",
       "      <th>2198</th>\n",
       "      <td>117</td>\n",
       "      <td>32</td>\n",
       "      <td>34</td>\n",
       "      <td>26.272418</td>\n",
       "      <td>52.127394</td>\n",
       "      <td>6.758793</td>\n",
       "      <td>127.175293</td>\n",
       "      <td>coffee</td>\n",
       "    </tr>\n",
       "    <tr>\n",
       "      <th>2199</th>\n",
       "      <td>104</td>\n",
       "      <td>18</td>\n",
       "      <td>30</td>\n",
       "      <td>23.603016</td>\n",
       "      <td>60.396475</td>\n",
       "      <td>6.779833</td>\n",
       "      <td>140.937041</td>\n",
       "      <td>coffee</td>\n",
       "    </tr>\n",
       "  </tbody>\n",
       "</table>\n",
       "<p>2200 rows × 8 columns</p>\n",
       "</div>"
      ],
      "text/plain": [
       "        N   P   K  temperature   humidity        ph    rainfall   label\n",
       "0      90  42  43    20.879744  82.002744  6.502985  202.935536    rice\n",
       "1      85  58  41    21.770462  80.319644  7.038096  226.655537    rice\n",
       "2      60  55  44    23.004459  82.320763  7.840207  263.964248    rice\n",
       "3      74  35  40    26.491096  80.158363  6.980401  242.864034    rice\n",
       "4      78  42  42    20.130175  81.604873  7.628473  262.717340    rice\n",
       "...   ...  ..  ..          ...        ...       ...         ...     ...\n",
       "2195  107  34  32    26.774637  66.413269  6.780064  177.774507  coffee\n",
       "2196   99  15  27    27.417112  56.636362  6.086922  127.924610  coffee\n",
       "2197  118  33  30    24.131797  67.225123  6.362608  173.322839  coffee\n",
       "2198  117  32  34    26.272418  52.127394  6.758793  127.175293  coffee\n",
       "2199  104  18  30    23.603016  60.396475  6.779833  140.937041  coffee\n",
       "\n",
       "[2200 rows x 8 columns]"
      ]
     },
     "execution_count": 94,
     "metadata": {},
     "output_type": "execute_result"
    }
   ],
   "source": [
    "data=pd.read_csv(\"agri_data.csv\")\n",
    "data"
   ]
  },
  {
   "cell_type": "code",
   "execution_count": 95,
   "id": "e763c56b",
   "metadata": {
    "ExecuteTime": {
     "end_time": "2021-07-17T13:52:41.278414Z",
     "start_time": "2021-07-17T13:52:41.244979Z"
    }
   },
   "outputs": [
    {
     "data": {
      "text/plain": [
       "coconut        100\n",
       "pomegranate    100\n",
       "banana         100\n",
       "papaya         100\n",
       "maize          100\n",
       "chickpea       100\n",
       "mango          100\n",
       "mothbeans      100\n",
       "watermelon     100\n",
       "cotton         100\n",
       "pigeonpeas     100\n",
       "kidneybeans    100\n",
       "lentil         100\n",
       "rice           100\n",
       "coffee         100\n",
       "grapes         100\n",
       "orange         100\n",
       "blackgram      100\n",
       "muskmelon      100\n",
       "mungbean       100\n",
       "jute           100\n",
       "apple          100\n",
       "Name: label, dtype: int64"
      ]
     },
     "execution_count": 95,
     "metadata": {},
     "output_type": "execute_result"
    }
   ],
   "source": [
    "data.label.value_counts()"
   ]
  },
  {
   "cell_type": "code",
   "execution_count": 96,
   "id": "1c17ca03",
   "metadata": {
    "ExecuteTime": {
     "end_time": "2021-07-17T13:52:41.762723Z",
     "start_time": "2021-07-17T13:52:41.746259Z"
    }
   },
   "outputs": [
    {
     "data": {
      "text/plain": [
       "(2200, 8)"
      ]
     },
     "execution_count": 96,
     "metadata": {},
     "output_type": "execute_result"
    }
   ],
   "source": [
    "data.shape"
   ]
  },
  {
   "cell_type": "code",
   "execution_count": 97,
   "id": "c3fc1eee",
   "metadata": {
    "ExecuteTime": {
     "end_time": "2021-07-17T13:52:42.378535Z",
     "start_time": "2021-07-17T13:52:42.362565Z"
    }
   },
   "outputs": [
    {
     "data": {
      "text/plain": [
       "Index(['N', 'P', 'K', 'temperature', 'humidity', 'ph', 'rainfall', 'label'], dtype='object')"
      ]
     },
     "execution_count": 97,
     "metadata": {},
     "output_type": "execute_result"
    }
   ],
   "source": [
    "data.columns"
   ]
  },
  {
   "cell_type": "code",
   "execution_count": 98,
   "id": "933b0ffe",
   "metadata": {
    "ExecuteTime": {
     "end_time": "2021-07-17T13:52:42.804101Z",
     "start_time": "2021-07-17T13:52:42.747711Z"
    }
   },
   "outputs": [
    {
     "name": "stdout",
     "output_type": "stream",
     "text": [
      "<class 'pandas.core.frame.DataFrame'>\n",
      "RangeIndex: 2200 entries, 0 to 2199\n",
      "Data columns (total 8 columns):\n",
      " #   Column       Non-Null Count  Dtype  \n",
      "---  ------       --------------  -----  \n",
      " 0   N            2200 non-null   int64  \n",
      " 1   P            2200 non-null   int64  \n",
      " 2   K            2200 non-null   int64  \n",
      " 3   temperature  2200 non-null   float64\n",
      " 4   humidity     2200 non-null   float64\n",
      " 5   ph           2200 non-null   float64\n",
      " 6   rainfall     2200 non-null   float64\n",
      " 7   label        2200 non-null   object \n",
      "dtypes: float64(4), int64(3), object(1)\n",
      "memory usage: 137.6+ KB\n"
     ]
    }
   ],
   "source": [
    "data.info()"
   ]
  },
  {
   "cell_type": "code",
   "execution_count": 99,
   "id": "1eb614d8",
   "metadata": {
    "ExecuteTime": {
     "end_time": "2021-07-17T13:52:43.353663Z",
     "start_time": "2021-07-17T13:52:43.327210Z"
    }
   },
   "outputs": [
    {
     "data": {
      "text/plain": [
       "N              0\n",
       "P              0\n",
       "K              0\n",
       "temperature    0\n",
       "humidity       0\n",
       "ph             0\n",
       "rainfall       0\n",
       "label          0\n",
       "dtype: int64"
      ]
     },
     "execution_count": 99,
     "metadata": {},
     "output_type": "execute_result"
    }
   ],
   "source": [
    "data.isnull().sum()"
   ]
  },
  {
   "cell_type": "code",
   "execution_count": 100,
   "id": "500239da",
   "metadata": {
    "ExecuteTime": {
     "end_time": "2021-07-17T13:52:43.813469Z",
     "start_time": "2021-07-17T13:52:43.783027Z"
    }
   },
   "outputs": [
    {
     "name": "stdout",
     "output_type": "stream",
     "text": [
      "Avg ratio of nitrogen : 50.55\n",
      "Avg ration of phosphurus : 53.36 \n",
      "Avg ration of potassium : 48.15\n",
      "Avg ratio of Temprature : 25.62\n",
      "Avg ratio of Humidity : 71.48\n",
      "Avg ratio of ph : 6.47\n",
      "Avg ratio of rainfall : 103.46\n"
     ]
    }
   ],
   "source": [
    "print(\"Avg ratio of nitrogen : {0:,.2f}\".format(data['N'].mean()))\n",
    "print('Avg ration of phosphurus : {0:.2f} ' .format(data['P'].mean()))\n",
    "print(\"Avg ration of potassium : {0:,.2f}\".format(data['K'].mean()))\n",
    "print(\"Avg ratio of Temprature : {0:,.2f}\".format(data['temperature'].mean()))\n",
    "print(\"Avg ratio of Humidity : {0:,.2f}\".format(data['humidity'].mean()))\n",
    "print(\"Avg ratio of ph : {0:,.2f}\".format(data['ph'].mean()))\n",
    "print(\"Avg ratio of rainfall : {0:,.2f}\".format(data['rainfall'].mean()))"
   ]
  },
  {
   "cell_type": "code",
   "execution_count": 101,
   "id": "73f6d5c0",
   "metadata": {
    "ExecuteTime": {
     "end_time": "2021-07-17T13:52:44.438571Z",
     "start_time": "2021-07-17T13:52:44.182559Z"
    }
   },
   "outputs": [
    {
     "data": {
      "application/vnd.jupyter.widget-view+json": {
       "model_id": "5042fe4ad20d4caeada136211babde38",
       "version_major": 2,
       "version_minor": 0
      },
      "text/plain": [
       "interactive(children=(Dropdown(description='crops', options=('coconut', 'pomegranate', 'banana', 'papaya', 'ma…"
      ]
     },
     "metadata": {},
     "output_type": "display_data"
    }
   ],
   "source": [
    "@interact\n",
    "def summary (crops=list(data['label'].value_counts().index)):\n",
    "    x=data[data['label']==crops]\n",
    "    print(\"-----------------------------------------------------------\")\n",
    "    print(\"statistics for Nitrogen\")\n",
    "    print(\"Min req of Nitrogen : \", x['N'].min())\n",
    "    print(\"avg req of N : \", x['N'].mean())\n",
    "    print(\"max req of N : \", x['N'].max())\n",
    "    print(\"-----------------------------------------------------------\")\n",
    "    print(\"statistics of P\")\n",
    "    print(\"min req of P : \",x['P'].min())\n",
    "    print(\"avg req of p : \", x['P'].mean())\n",
    "    print(\"max req of P : \", x['P'].max())\n",
    "    print(\"-----------------------------------------------------------\")\n",
    "    print(\"statistics of K\")\n",
    "    print(\"min req of K : \", x['K'].min())\n",
    "    print(\"avg req of K : \", x['K'].mean())\n",
    "    print(\"max req of K : \", x['K'].max())\n",
    "    print(\"-----------------------------------------------------------\")\n",
    "    print(\"statistics for Temprature\")\n",
    "    print(\"min req Temprature : \", x[\"temperature\"].min())\n",
    "    print(\"avg temp req : \", x[\"temperature\"].mean())\n",
    "    print(\"max tem req : \", x[\"temperature\"].max())\n",
    "    print(\"-----------------------------------------------------------\")\n",
    "    print(\"statistics for humidity\")\n",
    "    print(\"min humidity req : \",x['humidity'].min())\n",
    "    print(\"avg humidity req ; \", x[\"humidity\"].mean())\n",
    "    print(\"mx humidity req : \",x[\"humidity\"].max())\n",
    "    print(\"----------------------------------------------------------\")\n",
    "    print(\"statistics of ph\")\n",
    "    print(\"min req ph : \", x[\"ph\"].min())\n",
    "    print(\"avg req ph : \", x['ph'].mean())\n",
    "    print(\"max req ph : \", x['ph'].max())\n",
    "    print(\"----------------------------------------------------------\")\n",
    "    print(\"statistics of rainfall\")\n",
    "    print(\"min req rainfall : \", x[\"rainfall\"].min())\n",
    "    print(\"avg req rainfall : \", x['rainfall'].mean())\n",
    "    print(\"max req rainfall : \", x['rainfall'].max())"
   ]
  },
  {
   "cell_type": "code",
   "execution_count": 102,
   "id": "a7a1008d",
   "metadata": {
    "ExecuteTime": {
     "end_time": "2021-07-17T13:52:44.907888Z",
     "start_time": "2021-07-17T13:52:44.862474Z"
    }
   },
   "outputs": [
    {
     "data": {
      "text/plain": [
       "coconut        100\n",
       "pomegranate    100\n",
       "banana         100\n",
       "papaya         100\n",
       "maize          100\n",
       "chickpea       100\n",
       "mango          100\n",
       "mothbeans      100\n",
       "watermelon     100\n",
       "cotton         100\n",
       "pigeonpeas     100\n",
       "kidneybeans    100\n",
       "lentil         100\n",
       "rice           100\n",
       "coffee         100\n",
       "grapes         100\n",
       "orange         100\n",
       "blackgram      100\n",
       "muskmelon      100\n",
       "mungbean       100\n",
       "jute           100\n",
       "apple          100\n",
       "Name: label, dtype: int64"
      ]
     },
     "execution_count": 102,
     "metadata": {},
     "output_type": "execute_result"
    }
   ],
   "source": [
    "data['label'].value_counts()"
   ]
  },
  {
   "cell_type": "code",
   "execution_count": 103,
   "id": "7f50ca9f",
   "metadata": {
    "ExecuteTime": {
     "end_time": "2021-07-17T13:52:45.818737Z",
     "start_time": "2021-07-17T13:52:45.493357Z"
    }
   },
   "outputs": [
    {
     "data": {
      "application/vnd.jupyter.widget-view+json": {
       "model_id": "ec2c48c268444395aed8bd08c16182a8",
       "version_major": 2,
       "version_minor": 0
      },
      "text/plain": [
       "interactive(children=(Dropdown(description='condition', options=('N', 'P', 'K', 'temperature', 'ph', 'humidity…"
      ]
     },
     "metadata": {},
     "output_type": "display_data"
    }
   ],
   "source": [
    "@interact\n",
    "def compare (condition=['N','P','K','temperature','ph','humidity','rainfall']):\n",
    "    print(\"avg valu for : \", condition, \"is {0:,.2f}\".format(data[condition].mean()))\n",
    "    print(\"rice :{0:.2f} \".format(data[(data['label']=='rice')][condition].mean()))\n",
    "    print(\"orange : {0:.2f} \".format(data[data['label']=='orange'][condition].mean()))\n",
    "    print(\"apple : {0:2f} \".format(data[data['label']=='apple'][condition].mean()))\n",
    "    print('jute : {0:.2f}'.format(data[data['label']=='jute'][condition].mean()))\n",
    "    print(\"mungbean : {0:.2f}\".format(data[data['label']=='mungbean'][condition].mean()))\n",
    "    print(\"grapes : {0:.2f} \".format(data[data['label']=='grapes'][condition].mean()))\n",
    "    print(\"coffee : {0:.2f}\".format(data[data['label']=='coffee'][condition].mean()))\n",
    "    print(\"blackgram : {0:.2f}\".format(data[data['label']=='blackgram'][condition].mean()))\n",
    "    print(\"muskmelon : {0:.2f}\".format(data[data['label']=='muskmelon'][condition].mean()))\n",
    "    print(\"kidneybeans : {0:.2f}\".format(data[data['label']=='kidneybeans'][condition].mean()))\n",
    "    print(\"lentil : {0:.2f}\".format(data[data['label']=='lentil'][condition].mean()))\n",
    "    print(\"pigeonpeas : {0:.2f}\".format(data[data['label']=='pigeonpeas'][condition].mean()))\n",
    "    print(\"cotton : {0:.2f}\".format(data[data['label']=='cotton'][condition].mean()))\n",
    "    print(\"watermelon : {0:.2f}\".format(data[data['label']=='watermelon'][condition].mean()))\n",
    "    print(\" mothbeans: 0:.2f\".format(data[data['label']=='mothbeans'][condition].mean()))\n",
    "    print(\" mango : {0:.2f}\".format(data[data['label']=='mango'][condition].mean()))"
   ]
  },
  {
   "cell_type": "code",
   "execution_count": 113,
   "id": "ca4adcd8",
   "metadata": {
    "ExecuteTime": {
     "end_time": "2021-07-17T14:07:03.064214Z",
     "start_time": "2021-07-17T14:07:03.001335Z"
    }
   },
   "outputs": [
    {
     "data": {
      "application/vnd.jupyter.widget-view+json": {
       "model_id": "ce64d93a1a9f459a84604440fb3f83f9",
       "version_major": 2,
       "version_minor": 0
      },
      "text/plain": [
       "interactive(children=(Dropdown(description='condition', options=('N', 'P', 'K', 'ph', 'temperature', 'humidity…"
      ]
     },
     "metadata": {},
     "output_type": "display_data"
    }
   ],
   "source": [
    "@interact\n",
    "def compare(condition=['N','P','K','ph','temperature','humidity','rainfall']):\n",
    "    print(\"crop which req greater than avg\", condition,'\\n')\n",
    "    print(data[data[condition]>data[condition].mean()]['label'].unique())\n",
    "    print(\"-----------------------------------------------------\")\n",
    "    print(\"crop which is less than avg\", condition,'\\n')\n",
    "    print(data[data[condition]<data[condition].mean()]['label'].unique())"
   ]
  },
  {
   "cell_type": "code",
   "execution_count": 135,
   "id": "163a6d56",
   "metadata": {
    "ExecuteTime": {
     "end_time": "2021-07-17T14:32:57.206545Z",
     "start_time": "2021-07-17T14:32:57.176603Z"
    }
   },
   "outputs": [
    {
     "name": "stdout",
     "output_type": "stream",
     "text": [
      "Some interesting patterns\n",
      "-----------------------------------------\n",
      "crop which req very high ratio of N ['cotton']\n",
      "crop which req very less ratio of N ['chickpea' 'kidneybeans' 'pigeonpeas' 'mothbeans' 'mungbean' 'blackgram'\n",
      " 'lentil' 'pomegranate' 'mango' 'grapes' 'apple' 'orange' 'papaya'\n",
      " 'coconut']\n",
      "crop which is very high temp ['grapes' 'papaya']\n",
      "crop which is very less temp ['rice' 'maize' 'chickpea' 'kidneybeans' 'pigeonpeas' 'mothbeans' 'lentil'\n",
      " 'pomegranate' 'grapes' 'watermelon' 'apple' 'orange' 'papaya' 'cotton'\n",
      " 'jute' 'coffee']\n",
      "crop which is very less rainfall ['rice' 'pigeonpeas' 'papaya' 'coconut' 'jute' 'coffee']\n",
      "crop which is very high rainfall ['maize' 'chickpea' 'kidneybeans' 'pigeonpeas' 'mothbeans' 'mungbean'\n",
      " 'blackgram' 'lentil' 'pomegranate' 'banana' 'mango' 'grapes' 'watermelon'\n",
      " 'muskmelon' 'apple' 'orange' 'papaya' 'coconut' 'cotton' 'coffee']\n"
     ]
    }
   ],
   "source": [
    "print(\"Some interesting patterns\")\n",
    "print(\"-----------------------------------------\")\n",
    "print(\"crop which req very high ratio of N\", data[data['N']>120]['label'].unique())\n",
    "print(\"crop which req very less ratio of N\", data[data['N']<50]['label'].unique())\n",
    "print(\"crop which is very high temp\",data[data['temperature']>40]['label'].unique())\n",
    "print(\"crop which is very less temp\",data[data['temperature']<25]['label'].unique())\n",
    "print(\"crop which is very less rainfall\",data[data['rainfall']>150]['label'].unique())\n",
    "print(\"crop which is very high rainfall\",data[data['rainfall']<150]['label'].unique())"
   ]
  },
  {
   "cell_type": "code",
   "execution_count": null,
   "id": "5ee9e90d",
   "metadata": {},
   "outputs": [],
   "source": []
  },
  {
   "cell_type": "code",
   "execution_count": null,
   "id": "73aa4be9",
   "metadata": {},
   "outputs": [],
   "source": []
  }
 ],
 "metadata": {
  "kernelspec": {
   "display_name": "Python 3",
   "language": "python",
   "name": "python3"
  },
  "language_info": {
   "codemirror_mode": {
    "name": "ipython",
    "version": 3
   },
   "file_extension": ".py",
   "mimetype": "text/x-python",
   "name": "python",
   "nbconvert_exporter": "python",
   "pygments_lexer": "ipython3",
   "version": "3.8.8"
  }
 },
 "nbformat": 4,
 "nbformat_minor": 5
}
