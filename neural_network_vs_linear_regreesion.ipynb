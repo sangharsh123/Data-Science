{
  "nbformat": 4,
  "nbformat_minor": 0,
  "metadata": {
    "colab": {
      "name": " neural network vs linear regreesion.ipynb",
      "provenance": []
    },
    "kernelspec": {
      "name": "python3",
      "display_name": "Python 3"
    },
    "language_info": {
      "name": "python"
    }
  },
  "cells": [
    {
      "cell_type": "code",
      "metadata": {
        "id": "xfNS6zJZUJsj"
      },
      "source": [
        "import numpy as np\n",
        "import pandas as pd\n",
        "import seaborn as sns\n",
        "import matplotlib.pyplot as plt\n",
        "%matplotlib inline"
      ],
      "execution_count": null,
      "outputs": []
    },
    {
      "cell_type": "code",
      "metadata": {
        "colab": {
          "base_uri": "https://localhost:8080/"
        },
        "id": "lK5p0BlUUYJz",
        "outputId": "025dd1cc-1494-4aeb-9118-f21dc6a0d43c"
      },
      "source": [
        "df=pd.read_csv(\"boston_train.csv\",usecols=['crim', 'zn', 'indus', 'chas', 'nox', 'rm', 'age', 'dis', 'rad',\n",
        "       'tax', 'ptratio', 'black', 'lstat', 'medv'])\n",
        "print(df.head())\n",
        "print(df.info())"
      ],
      "execution_count": null,
      "outputs": [
        {
          "output_type": "stream",
          "text": [
            "      crim    zn  indus  chas    nox  ...  tax  ptratio   black  lstat  medv\n",
            "0  0.00632  18.0   2.31     0  0.538  ...  296     15.3  396.90   4.98  24.0\n",
            "1  0.02731   0.0   7.07     0  0.469  ...  242     17.8  396.90   9.14  21.6\n",
            "2  0.03237   0.0   2.18     0  0.458  ...  222     18.7  394.63   2.94  33.4\n",
            "3  0.06905   0.0   2.18     0  0.458  ...  222     18.7  396.90   5.33  36.2\n",
            "4  0.08829  12.5   7.87     0  0.524  ...  311     15.2  395.60  12.43  22.9\n",
            "\n",
            "[5 rows x 14 columns]\n",
            "<class 'pandas.core.frame.DataFrame'>\n",
            "RangeIndex: 333 entries, 0 to 332\n",
            "Data columns (total 14 columns):\n",
            " #   Column   Non-Null Count  Dtype  \n",
            "---  ------   --------------  -----  \n",
            " 0   crim     333 non-null    float64\n",
            " 1   zn       333 non-null    float64\n",
            " 2   indus    333 non-null    float64\n",
            " 3   chas     333 non-null    int64  \n",
            " 4   nox      333 non-null    float64\n",
            " 5   rm       333 non-null    float64\n",
            " 6   age      333 non-null    float64\n",
            " 7   dis      333 non-null    float64\n",
            " 8   rad      333 non-null    int64  \n",
            " 9   tax      333 non-null    int64  \n",
            " 10  ptratio  333 non-null    float64\n",
            " 11  black    333 non-null    float64\n",
            " 12  lstat    333 non-null    float64\n",
            " 13  medv     333 non-null    float64\n",
            "dtypes: float64(11), int64(3)\n",
            "memory usage: 36.5 KB\n",
            "None\n"
          ],
          "name": "stdout"
        }
      ]
    },
    {
      "cell_type": "code",
      "metadata": {
        "colab": {
          "base_uri": "https://localhost:8080/"
        },
        "id": "pigVQJ5uUqXd",
        "outputId": "4d50b2d9-a0f2-49c2-ec0c-d3ef9e4f2bed"
      },
      "source": [
        "df.info()"
      ],
      "execution_count": null,
      "outputs": [
        {
          "output_type": "stream",
          "text": [
            "<class 'pandas.core.frame.DataFrame'>\n",
            "RangeIndex: 333 entries, 0 to 332\n",
            "Data columns (total 14 columns):\n",
            " #   Column   Non-Null Count  Dtype  \n",
            "---  ------   --------------  -----  \n",
            " 0   crim     333 non-null    float64\n",
            " 1   zn       333 non-null    float64\n",
            " 2   indus    333 non-null    float64\n",
            " 3   chas     333 non-null    int64  \n",
            " 4   nox      333 non-null    float64\n",
            " 5   rm       333 non-null    float64\n",
            " 6   age      333 non-null    float64\n",
            " 7   dis      333 non-null    float64\n",
            " 8   rad      333 non-null    int64  \n",
            " 9   tax      333 non-null    int64  \n",
            " 10  ptratio  333 non-null    float64\n",
            " 11  black    333 non-null    float64\n",
            " 12  lstat    333 non-null    float64\n",
            " 13  medv     333 non-null    float64\n",
            "dtypes: float64(11), int64(3)\n",
            "memory usage: 36.5 KB\n"
          ],
          "name": "stdout"
        }
      ]
    },
    {
      "cell_type": "code",
      "metadata": {
        "id": "-3x2DK-RVKR-",
        "colab": {
          "base_uri": "https://localhost:8080/",
          "height": 317
        },
        "outputId": "77e06a39-1ce5-440f-9ae4-b0d7d1f8ada5"
      },
      "source": [
        "df.describe()"
      ],
      "execution_count": null,
      "outputs": [
        {
          "output_type": "execute_result",
          "data": {
            "text/html": [
              "<div>\n",
              "<style scoped>\n",
              "    .dataframe tbody tr th:only-of-type {\n",
              "        vertical-align: middle;\n",
              "    }\n",
              "\n",
              "    .dataframe tbody tr th {\n",
              "        vertical-align: top;\n",
              "    }\n",
              "\n",
              "    .dataframe thead th {\n",
              "        text-align: right;\n",
              "    }\n",
              "</style>\n",
              "<table border=\"1\" class=\"dataframe\">\n",
              "  <thead>\n",
              "    <tr style=\"text-align: right;\">\n",
              "      <th></th>\n",
              "      <th>crim</th>\n",
              "      <th>zn</th>\n",
              "      <th>indus</th>\n",
              "      <th>chas</th>\n",
              "      <th>nox</th>\n",
              "      <th>rm</th>\n",
              "      <th>age</th>\n",
              "      <th>dis</th>\n",
              "      <th>rad</th>\n",
              "      <th>tax</th>\n",
              "      <th>ptratio</th>\n",
              "      <th>black</th>\n",
              "      <th>lstat</th>\n",
              "      <th>medv</th>\n",
              "    </tr>\n",
              "  </thead>\n",
              "  <tbody>\n",
              "    <tr>\n",
              "      <th>count</th>\n",
              "      <td>333.000000</td>\n",
              "      <td>333.000000</td>\n",
              "      <td>333.000000</td>\n",
              "      <td>333.000000</td>\n",
              "      <td>333.000000</td>\n",
              "      <td>333.000000</td>\n",
              "      <td>333.000000</td>\n",
              "      <td>333.000000</td>\n",
              "      <td>333.000000</td>\n",
              "      <td>333.000000</td>\n",
              "      <td>333.000000</td>\n",
              "      <td>333.000000</td>\n",
              "      <td>333.000000</td>\n",
              "      <td>333.000000</td>\n",
              "    </tr>\n",
              "    <tr>\n",
              "      <th>mean</th>\n",
              "      <td>3.360341</td>\n",
              "      <td>10.689189</td>\n",
              "      <td>11.293483</td>\n",
              "      <td>0.060060</td>\n",
              "      <td>0.557144</td>\n",
              "      <td>6.265619</td>\n",
              "      <td>68.226426</td>\n",
              "      <td>3.709934</td>\n",
              "      <td>9.633634</td>\n",
              "      <td>409.279279</td>\n",
              "      <td>18.448048</td>\n",
              "      <td>359.466096</td>\n",
              "      <td>12.515435</td>\n",
              "      <td>22.768769</td>\n",
              "    </tr>\n",
              "    <tr>\n",
              "      <th>std</th>\n",
              "      <td>7.352272</td>\n",
              "      <td>22.674762</td>\n",
              "      <td>6.998123</td>\n",
              "      <td>0.237956</td>\n",
              "      <td>0.114955</td>\n",
              "      <td>0.703952</td>\n",
              "      <td>28.133344</td>\n",
              "      <td>1.981123</td>\n",
              "      <td>8.742174</td>\n",
              "      <td>170.841988</td>\n",
              "      <td>2.151821</td>\n",
              "      <td>86.584567</td>\n",
              "      <td>7.067781</td>\n",
              "      <td>9.173468</td>\n",
              "    </tr>\n",
              "    <tr>\n",
              "      <th>min</th>\n",
              "      <td>0.006320</td>\n",
              "      <td>0.000000</td>\n",
              "      <td>0.740000</td>\n",
              "      <td>0.000000</td>\n",
              "      <td>0.385000</td>\n",
              "      <td>3.561000</td>\n",
              "      <td>6.000000</td>\n",
              "      <td>1.129600</td>\n",
              "      <td>1.000000</td>\n",
              "      <td>188.000000</td>\n",
              "      <td>12.600000</td>\n",
              "      <td>3.500000</td>\n",
              "      <td>1.730000</td>\n",
              "      <td>5.000000</td>\n",
              "    </tr>\n",
              "    <tr>\n",
              "      <th>25%</th>\n",
              "      <td>0.078960</td>\n",
              "      <td>0.000000</td>\n",
              "      <td>5.130000</td>\n",
              "      <td>0.000000</td>\n",
              "      <td>0.453000</td>\n",
              "      <td>5.884000</td>\n",
              "      <td>45.400000</td>\n",
              "      <td>2.122400</td>\n",
              "      <td>4.000000</td>\n",
              "      <td>279.000000</td>\n",
              "      <td>17.400000</td>\n",
              "      <td>376.730000</td>\n",
              "      <td>7.180000</td>\n",
              "      <td>17.400000</td>\n",
              "    </tr>\n",
              "    <tr>\n",
              "      <th>50%</th>\n",
              "      <td>0.261690</td>\n",
              "      <td>0.000000</td>\n",
              "      <td>9.900000</td>\n",
              "      <td>0.000000</td>\n",
              "      <td>0.538000</td>\n",
              "      <td>6.202000</td>\n",
              "      <td>76.700000</td>\n",
              "      <td>3.092300</td>\n",
              "      <td>5.000000</td>\n",
              "      <td>330.000000</td>\n",
              "      <td>19.000000</td>\n",
              "      <td>392.050000</td>\n",
              "      <td>10.970000</td>\n",
              "      <td>21.600000</td>\n",
              "    </tr>\n",
              "    <tr>\n",
              "      <th>75%</th>\n",
              "      <td>3.678220</td>\n",
              "      <td>12.500000</td>\n",
              "      <td>18.100000</td>\n",
              "      <td>0.000000</td>\n",
              "      <td>0.631000</td>\n",
              "      <td>6.595000</td>\n",
              "      <td>93.800000</td>\n",
              "      <td>5.116700</td>\n",
              "      <td>24.000000</td>\n",
              "      <td>666.000000</td>\n",
              "      <td>20.200000</td>\n",
              "      <td>396.240000</td>\n",
              "      <td>16.420000</td>\n",
              "      <td>25.000000</td>\n",
              "    </tr>\n",
              "    <tr>\n",
              "      <th>max</th>\n",
              "      <td>73.534100</td>\n",
              "      <td>100.000000</td>\n",
              "      <td>27.740000</td>\n",
              "      <td>1.000000</td>\n",
              "      <td>0.871000</td>\n",
              "      <td>8.725000</td>\n",
              "      <td>100.000000</td>\n",
              "      <td>10.710300</td>\n",
              "      <td>24.000000</td>\n",
              "      <td>711.000000</td>\n",
              "      <td>21.200000</td>\n",
              "      <td>396.900000</td>\n",
              "      <td>37.970000</td>\n",
              "      <td>50.000000</td>\n",
              "    </tr>\n",
              "  </tbody>\n",
              "</table>\n",
              "</div>"
            ],
            "text/plain": [
              "             crim          zn       indus  ...       black       lstat        medv\n",
              "count  333.000000  333.000000  333.000000  ...  333.000000  333.000000  333.000000\n",
              "mean     3.360341   10.689189   11.293483  ...  359.466096   12.515435   22.768769\n",
              "std      7.352272   22.674762    6.998123  ...   86.584567    7.067781    9.173468\n",
              "min      0.006320    0.000000    0.740000  ...    3.500000    1.730000    5.000000\n",
              "25%      0.078960    0.000000    5.130000  ...  376.730000    7.180000   17.400000\n",
              "50%      0.261690    0.000000    9.900000  ...  392.050000   10.970000   21.600000\n",
              "75%      3.678220   12.500000   18.100000  ...  396.240000   16.420000   25.000000\n",
              "max     73.534100  100.000000   27.740000  ...  396.900000   37.970000   50.000000\n",
              "\n",
              "[8 rows x 14 columns]"
            ]
          },
          "metadata": {
            "tags": []
          },
          "execution_count": 78
        }
      ]
    },
    {
      "cell_type": "code",
      "metadata": {
        "id": "GuQzf8dX_Sm2"
      },
      "source": [
        "from sklearn.preprocessing import MinMaxScaler,StandardScaler"
      ],
      "execution_count": null,
      "outputs": []
    },
    {
      "cell_type": "code",
      "metadata": {
        "id": "ve5xk9W6_jtW"
      },
      "source": [
        "sc=MinMaxScaler()"
      ],
      "execution_count": null,
      "outputs": []
    },
    {
      "cell_type": "code",
      "metadata": {
        "colab": {
          "base_uri": "https://localhost:8080/"
        },
        "id": "Vo61DtyV_6bU",
        "outputId": "dc000d10-4f78-4068-b6b1-75622c669527"
      },
      "source": [
        "\n",
        "data=sc.fit_transform(df)\n",
        "\n",
        "data\n",
        "\n"
      ],
      "execution_count": null,
      "outputs": [
        {
          "output_type": "execute_result",
          "data": {
            "text/plain": [
              "array([[0.00000000e+00, 1.80000000e-01, 5.81481481e-02, ...,\n",
              "        1.00000000e+00, 8.96799117e-02, 4.22222222e-01],\n",
              "       [2.85470335e-04, 0.00000000e+00, 2.34444444e-01, ...,\n",
              "        1.00000000e+00, 2.04470199e-01, 3.68888889e-01],\n",
              "       [3.54287862e-04, 0.00000000e+00, 5.33333333e-02, ...,\n",
              "        9.94229792e-01, 3.33885210e-02, 6.31111111e-01],\n",
              "       ...,\n",
              "       [5.29731756e-04, 0.00000000e+00, 4.14444444e-01, ...,\n",
              "        1.00000000e+00, 2.02814570e-01, 3.46666667e-01],\n",
              "       [7.40400431e-04, 0.00000000e+00, 4.14444444e-01, ...,\n",
              "        1.00000000e+00, 1.07891832e-01, 4.20000000e-01],\n",
              "       [5.58836402e-04, 0.00000000e+00, 4.14444444e-01, ...,\n",
              "        1.00000000e+00, 1.69701987e-01, 1.53333333e-01]])"
            ]
          },
          "metadata": {
            "tags": []
          },
          "execution_count": 81
        }
      ]
    },
    {
      "cell_type": "code",
      "metadata": {
        "colab": {
          "base_uri": "https://localhost:8080/"
        },
        "id": "YNXS7Q1K_-Ph",
        "outputId": "a09bfaee-f091-47a9-9381-fc86ce93e980"
      },
      "source": [
        "df.columns"
      ],
      "execution_count": null,
      "outputs": [
        {
          "output_type": "execute_result",
          "data": {
            "text/plain": [
              "Index(['crim', 'zn', 'indus', 'chas', 'nox', 'rm', 'age', 'dis', 'rad', 'tax',\n",
              "       'ptratio', 'black', 'lstat', 'medv'],\n",
              "      dtype='object')"
            ]
          },
          "metadata": {
            "tags": []
          },
          "execution_count": 82
        }
      ]
    },
    {
      "cell_type": "code",
      "metadata": {
        "colab": {
          "base_uri": "https://localhost:8080/"
        },
        "id": "tpG-EJmmEHkm",
        "outputId": "8ffbefa3-0673-4767-adbd-3fc4db4f7641"
      },
      "source": [
        "df1=pd.DataFrame(data, columns=[ 'crim', 'zn', 'indus', 'chas', 'nox', 'rm', 'age', 'dis', 'rad',\n",
        "       'tax', 'ptratio', 'black', 'lstat', 'medv'])\n",
        "summary=df1.describe()\n",
        "summary=summary.transpose()\n",
        "print(summary)"
      ],
      "execution_count": null,
      "outputs": [
        {
          "output_type": "stream",
          "text": [
            "         count      mean       std  min       25%       50%       75%  max\n",
            "crim     333.0  0.045616  0.099993  0.0  0.000988  0.003473  0.049939  1.0\n",
            "zn       333.0  0.106892  0.226748  0.0  0.000000  0.000000  0.125000  1.0\n",
            "indus    333.0  0.390870  0.259190  0.0  0.162593  0.339259  0.642963  1.0\n",
            "chas     333.0  0.060060  0.237956  0.0  0.000000  0.000000  0.000000  1.0\n",
            "nox      333.0  0.354206  0.236532  0.0  0.139918  0.314815  0.506173  1.0\n",
            "rm       333.0  0.523745  0.136319  0.0  0.449845  0.511425  0.587529  1.0\n",
            "age      333.0  0.661983  0.299291  0.0  0.419149  0.752128  0.934043  1.0\n",
            "dis      333.0  0.269326  0.206783  0.0  0.103625  0.204860  0.416160  1.0\n",
            "rad      333.0  0.375375  0.380095  0.0  0.130435  0.173913  1.000000  1.0\n",
            "tax      333.0  0.423096  0.326658  0.0  0.173996  0.271511  0.913958  1.0\n",
            "ptratio  333.0  0.680006  0.250212  0.0  0.558140  0.744186  0.883721  1.0\n",
            "black    333.0  0.904845  0.220093  0.0  0.948729  0.987672  0.998322  1.0\n",
            "lstat    333.0  0.297611  0.195027  0.0  0.150386  0.254967  0.405353  1.0\n",
            "medv     333.0  0.394862  0.203855  0.0  0.275556  0.368889  0.444444  1.0\n"
          ],
          "name": "stdout"
        }
      ]
    },
    {
      "cell_type": "code",
      "metadata": {
        "colab": {
          "base_uri": "https://localhost:8080/",
          "height": 483
        },
        "id": "Odc-Tua1Ehnl",
        "outputId": "e947f800-8328-4efe-930a-12022ecf09ae"
      },
      "source": [
        "plt.figure(figsize=(12,8))\n",
        "plt.boxplot(data, labels=[ 'crim', 'zn', 'indus', 'chas', 'nox', 'rm', 'age', 'dis', 'rad',\n",
        "       'tax', 'ptratio', 'black', 'lstat', 'medv'])\n",
        "plt.show()"
      ],
      "execution_count": null,
      "outputs": [
        {
          "output_type": "display_data",
          "data": {
            "image/png": "[encoded data removed]",
            "text/plain": [
              "<Figure size 864x576 with 1 Axes>"
            ]
          },
          "metadata": {
            "tags": [],
            "needs_background": "light"
          }
        }
      ]
    },
    {
      "cell_type": "code",
      "metadata": {
        "colab": {
          "base_uri": "https://localhost:8080/",
          "height": 504
        },
        "id": "LxcEYyVvHHhu",
        "outputId": "8896015e-9ad4-41fa-f1d5-fd61c51a1b0e"
      },
      "source": [
        "plt.figure(figsize=(12,8))\n",
        "cordata=df1.corr()\n",
        "sns.heatmap(cordata,annot=True)"
      ],
      "execution_count": null,
      "outputs": [
        {
          "output_type": "execute_result",
          "data": {
            "text/plain": [
              "<matplotlib.axes._subplots.AxesSubplot at 0x7fc383595c50>"
            ]
          },
          "metadata": {
            "tags": []
          },
          "execution_count": 85
        },
        {
          "output_type": "display_data",
          "data": {
            "image/png": "[encoded data removed]",
            "text/plain": [
              "<Figure size 864x576 with 2 Axes>"
            ]
          },
          "metadata": {
            "tags": [],
            "needs_background": "light"
          }
        }
      ]
    },
    {
      "cell_type": "code",
      "metadata": {
        "id": "V6B-3qQ0IWzj"
      },
      "source": [
        "from sklearn.model_selection import train_test_split"
      ],
      "execution_count": null,
      "outputs": []
    },
    {
      "cell_type": "code",
      "metadata": {
        "id": "TWpZFXU3JWCX",
        "colab": {
          "base_uri": "https://localhost:8080/"
        },
        "outputId": "6e000eaa-ed37-410a-bac2-184be1e48daf"
      },
      "source": [
        "X=df1.drop('medv',axis=1)\n",
        "y=df1['medv'].values\n",
        "print(X.shape)\n",
        "print(y.shape)\n",
        "\n"
      ],
      "execution_count": 108,
      "outputs": [
        {
          "output_type": "stream",
          "text": [
            "(333, 13)\n",
            "(333,)\n"
          ],
          "name": "stdout"
        }
      ]
    },
    {
      "cell_type": "code",
      "metadata": {
        "colab": {
          "base_uri": "https://localhost:8080/"
        },
        "id": "ataeujzcJOPd",
        "outputId": "0655f2d9-1c62-4046-be0e-ceebb93391a1"
      },
      "source": [
        "x_train,x_test,y_train,y_test=train_test_split(X,y,test_size=0.3,random_state=5)\n",
        "print(x_train.shape)\n",
        "print(x_test.shape)\n",
        "print(y_train.shape)\n",
        "print(y_test.shape)\n"
      ],
      "execution_count": 113,
      "outputs": [
        {
          "output_type": "stream",
          "text": [
            "(233, 13)\n",
            "(100, 13)\n",
            "(233,)\n",
            "(100,)\n"
          ],
          "name": "stdout"
        }
      ]
    },
    {
      "cell_type": "code",
      "metadata": {
        "id": "ea7jC1ASK_JY"
      },
      "source": [
        "import keras\n",
        "from keras.models import Sequential\n",
        "from keras.layers import Dense\n",
        "from keras import metrics"
      ],
      "execution_count": 114,
      "outputs": []
    },
    {
      "cell_type": "code",
      "metadata": {
        "id": "f3iMvWUnMzw1"
      },
      "source": [
        "model=Sequential()"
      ],
      "execution_count": 184,
      "outputs": []
    },
    {
      "cell_type": "code",
      "metadata": {
        "id": "20udCyGrM5oa"
      },
      "source": [
        "#input layer\n",
        "model.add(Dense(7, input_dim=13, activation='relu'))\n",
        "#hidden layer\n",
        "model.add(Dense(7,  activation='relu'))\n",
        "#output layer\n",
        "model.add(Dense(1, activation='linear'))"
      ],
      "execution_count": 219,
      "outputs": []
    },
    {
      "cell_type": "code",
      "metadata": {
        "id": "8iRUHUNPNkGX"
      },
      "source": [
        "model.compile(optimizer='Adam',loss='mean_squared_error',metrics=['accuracy'])\n"
      ],
      "execution_count": 197,
      "outputs": []
    },
    {
      "cell_type": "code",
      "metadata": {
        "colab": {
          "base_uri": "https://localhost:8080/"
        },
        "id": "zr-mF42FO2zh",
        "outputId": "c401f0fd-322e-4703-f3d1-7a2721c51938"
      },
      "source": [
        "model.fit(x_train,y_train, epochs=100,verbose=1)"
      ],
      "execution_count": 198,
      "outputs": [
        {
          "output_type": "stream",
          "text": [
            "Epoch 1/100\n",
            "8/8 [==============================] - 1s 2ms/step - loss: 0.0721 - accuracy: 0.0000e+00\n",
            "Epoch 2/100\n",
            "8/8 [==============================] - 0s 4ms/step - loss: 0.0256 - accuracy: 0.0091\n",
            "Epoch 3/100\n",
            "8/8 [==============================] - 0s 2ms/step - loss: 0.0220 - accuracy: 0.0394\n",
            "Epoch 4/100\n",
            "8/8 [==============================] - 0s 2ms/step - loss: 0.0167 - accuracy: 0.0354\n",
            "Epoch 5/100\n",
            "8/8 [==============================] - 0s 2ms/step - loss: 0.0125 - accuracy: 0.0283\n",
            "Epoch 6/100\n",
            "8/8 [==============================] - 0s 2ms/step - loss: 0.0104 - accuracy: 0.0406\n",
            "Epoch 7/100\n",
            "8/8 [==============================] - 0s 2ms/step - loss: 0.0104 - accuracy: 0.0379\n",
            "Epoch 8/100\n",
            "8/8 [==============================] - 0s 3ms/step - loss: 0.0106 - accuracy: 0.0340\n",
            "Epoch 9/100\n",
            "8/8 [==============================] - 0s 3ms/step - loss: 0.0091 - accuracy: 0.0267\n",
            "Epoch 10/100\n",
            "8/8 [==============================] - 0s 3ms/step - loss: 0.0054 - accuracy: 0.0193\n",
            "Epoch 11/100\n",
            "8/8 [==============================] - 0s 3ms/step - loss: 0.0080 - accuracy: 0.0280\n",
            "Epoch 12/100\n",
            "8/8 [==============================] - 0s 3ms/step - loss: 0.0076 - accuracy: 0.0306\n",
            "Epoch 13/100\n",
            "8/8 [==============================] - 0s 3ms/step - loss: 0.0080 - accuracy: 0.0438\n",
            "Epoch 14/100\n",
            "8/8 [==============================] - 0s 4ms/step - loss: 0.0063 - accuracy: 0.0308\n",
            "Epoch 15/100\n",
            "8/8 [==============================] - 0s 3ms/step - loss: 0.0066 - accuracy: 0.0393\n",
            "Epoch 16/100\n",
            "8/8 [==============================] - 0s 3ms/step - loss: 0.0064 - accuracy: 0.0266\n",
            "Epoch 17/100\n",
            "8/8 [==============================] - 0s 2ms/step - loss: 0.0072 - accuracy: 0.0408\n",
            "Epoch 18/100\n",
            "8/8 [==============================] - 0s 2ms/step - loss: 0.0076 - accuracy: 0.0446\n",
            "Epoch 19/100\n",
            "8/8 [==============================] - 0s 3ms/step - loss: 0.0061 - accuracy: 0.0295\n",
            "Epoch 20/100\n",
            "8/8 [==============================] - 0s 3ms/step - loss: 0.0064 - accuracy: 0.0311\n",
            "Epoch 21/100\n",
            "8/8 [==============================] - 0s 2ms/step - loss: 0.0066 - accuracy: 0.0360\n",
            "Epoch 22/100\n",
            "8/8 [==============================] - 0s 2ms/step - loss: 0.0055 - accuracy: 0.0382\n",
            "Epoch 23/100\n",
            "8/8 [==============================] - 0s 2ms/step - loss: 0.0054 - accuracy: 0.0252\n",
            "Epoch 24/100\n",
            "8/8 [==============================] - 0s 2ms/step - loss: 0.0070 - accuracy: 0.0254\n",
            "Epoch 25/100\n",
            "8/8 [==============================] - 0s 3ms/step - loss: 0.0051 - accuracy: 0.0289\n",
            "Epoch 26/100\n",
            "8/8 [==============================] - 0s 3ms/step - loss: 0.0064 - accuracy: 0.0372\n",
            "Epoch 27/100\n",
            "8/8 [==============================] - 0s 3ms/step - loss: 0.0064 - accuracy: 0.0427\n",
            "Epoch 28/100\n",
            "8/8 [==============================] - 0s 3ms/step - loss: 0.0082 - accuracy: 0.0506\n",
            "Epoch 29/100\n",
            "8/8 [==============================] - 0s 2ms/step - loss: 0.0067 - accuracy: 0.0381\n",
            "Epoch 30/100\n",
            "8/8 [==============================] - 0s 2ms/step - loss: 0.0065 - accuracy: 0.0656\n",
            "Epoch 31/100\n",
            "8/8 [==============================] - 0s 2ms/step - loss: 0.0052 - accuracy: 0.0465\n",
            "Epoch 32/100\n",
            "8/8 [==============================] - 0s 3ms/step - loss: 0.0051 - accuracy: 0.0474\n",
            "Epoch 33/100\n",
            "8/8 [==============================] - 0s 2ms/step - loss: 0.0049 - accuracy: 0.0317\n",
            "Epoch 34/100\n",
            "8/8 [==============================] - 0s 3ms/step - loss: 0.0050 - accuracy: 0.0352\n",
            "Epoch 35/100\n",
            "8/8 [==============================] - 0s 2ms/step - loss: 0.0054 - accuracy: 0.0370\n",
            "Epoch 36/100\n",
            "8/8 [==============================] - 0s 4ms/step - loss: 0.0045 - accuracy: 0.0398\n",
            "Epoch 37/100\n",
            "8/8 [==============================] - 0s 3ms/step - loss: 0.0046 - accuracy: 0.0314\n",
            "Epoch 38/100\n",
            "8/8 [==============================] - 0s 3ms/step - loss: 0.0050 - accuracy: 0.0470\n",
            "Epoch 39/100\n",
            "8/8 [==============================] - 0s 3ms/step - loss: 0.0056 - accuracy: 0.0372\n",
            "Epoch 40/100\n",
            "8/8 [==============================] - 0s 2ms/step - loss: 0.0065 - accuracy: 0.0378\n",
            "Epoch 41/100\n",
            "8/8 [==============================] - 0s 3ms/step - loss: 0.0046 - accuracy: 0.0242\n",
            "Epoch 42/100\n",
            "8/8 [==============================] - 0s 3ms/step - loss: 0.0049 - accuracy: 0.0321\n",
            "Epoch 43/100\n",
            "8/8 [==============================] - 0s 2ms/step - loss: 0.0048 - accuracy: 0.0325\n",
            "Epoch 44/100\n",
            "8/8 [==============================] - 0s 2ms/step - loss: 0.0042 - accuracy: 0.0271\n",
            "Epoch 45/100\n",
            "8/8 [==============================] - 0s 2ms/step - loss: 0.0046 - accuracy: 0.0340\n",
            "Epoch 46/100\n",
            "8/8 [==============================] - 0s 2ms/step - loss: 0.0043 - accuracy: 0.0262\n",
            "Epoch 47/100\n",
            "8/8 [==============================] - 0s 2ms/step - loss: 0.0037 - accuracy: 0.0381\n",
            "Epoch 48/100\n",
            "8/8 [==============================] - 0s 2ms/step - loss: 0.0055 - accuracy: 0.0411\n",
            "Epoch 49/100\n",
            "8/8 [==============================] - 0s 2ms/step - loss: 0.0050 - accuracy: 0.0418\n",
            "Epoch 50/100\n",
            "8/8 [==============================] - 0s 2ms/step - loss: 0.0043 - accuracy: 0.0444\n",
            "Epoch 51/100\n",
            "8/8 [==============================] - 0s 2ms/step - loss: 0.0048 - accuracy: 0.0382\n",
            "Epoch 52/100\n",
            "8/8 [==============================] - 0s 4ms/step - loss: 0.0047 - accuracy: 0.0356\n",
            "Epoch 53/100\n",
            "8/8 [==============================] - 0s 2ms/step - loss: 0.0038 - accuracy: 0.0227\n",
            "Epoch 54/100\n",
            "8/8 [==============================] - 0s 2ms/step - loss: 0.0045 - accuracy: 0.0367\n",
            "Epoch 55/100\n",
            "8/8 [==============================] - 0s 3ms/step - loss: 0.0038 - accuracy: 0.0251\n",
            "Epoch 56/100\n",
            "8/8 [==============================] - 0s 4ms/step - loss: 0.0044 - accuracy: 0.0429\n",
            "Epoch 57/100\n",
            "8/8 [==============================] - 0s 3ms/step - loss: 0.0059 - accuracy: 0.0468\n",
            "Epoch 58/100\n",
            "8/8 [==============================] - 0s 3ms/step - loss: 0.0044 - accuracy: 0.0427\n",
            "Epoch 59/100\n",
            "8/8 [==============================] - 0s 3ms/step - loss: 0.0048 - accuracy: 0.0364\n",
            "Epoch 60/100\n",
            "8/8 [==============================] - 0s 3ms/step - loss: 0.0044 - accuracy: 0.0395\n",
            "Epoch 61/100\n",
            "8/8 [==============================] - 0s 3ms/step - loss: 0.0050 - accuracy: 0.0428\n",
            "Epoch 62/100\n",
            "8/8 [==============================] - 0s 3ms/step - loss: 0.0034 - accuracy: 0.0304\n",
            "Epoch 63/100\n",
            "8/8 [==============================] - 0s 2ms/step - loss: 0.0057 - accuracy: 0.0594\n",
            "Epoch 64/100\n",
            "8/8 [==============================] - 0s 2ms/step - loss: 0.0048 - accuracy: 0.0359\n",
            "Epoch 65/100\n",
            "8/8 [==============================] - 0s 3ms/step - loss: 0.0042 - accuracy: 0.0389\n",
            "Epoch 66/100\n",
            "8/8 [==============================] - 0s 3ms/step - loss: 0.0055 - accuracy: 0.0483\n",
            "Epoch 67/100\n",
            "8/8 [==============================] - 0s 3ms/step - loss: 0.0033 - accuracy: 0.0407\n",
            "Epoch 68/100\n",
            "8/8 [==============================] - 0s 3ms/step - loss: 0.0041 - accuracy: 0.0504\n",
            "Epoch 69/100\n",
            "8/8 [==============================] - 0s 3ms/step - loss: 0.0037 - accuracy: 0.0284\n",
            "Epoch 70/100\n",
            "8/8 [==============================] - 0s 3ms/step - loss: 0.0040 - accuracy: 0.0404\n",
            "Epoch 71/100\n",
            "8/8 [==============================] - 0s 2ms/step - loss: 0.0037 - accuracy: 0.0422\n",
            "Epoch 72/100\n",
            "8/8 [==============================] - 0s 2ms/step - loss: 0.0035 - accuracy: 0.0365\n",
            "Epoch 73/100\n",
            "8/8 [==============================] - 0s 3ms/step - loss: 0.0041 - accuracy: 0.0405\n",
            "Epoch 74/100\n",
            "8/8 [==============================] - 0s 2ms/step - loss: 0.0034 - accuracy: 0.0319\n",
            "Epoch 75/100\n",
            "8/8 [==============================] - 0s 3ms/step - loss: 0.0042 - accuracy: 0.0340\n",
            "Epoch 76/100\n",
            "8/8 [==============================] - 0s 3ms/step - loss: 0.0033 - accuracy: 0.0374\n",
            "Epoch 77/100\n",
            "8/8 [==============================] - 0s 3ms/step - loss: 0.0046 - accuracy: 0.0336\n",
            "Epoch 78/100\n",
            "8/8 [==============================] - 0s 2ms/step - loss: 0.0034 - accuracy: 0.0332\n",
            "Epoch 79/100\n",
            "8/8 [==============================] - 0s 2ms/step - loss: 0.0044 - accuracy: 0.0389\n",
            "Epoch 80/100\n",
            "8/8 [==============================] - 0s 3ms/step - loss: 0.0031 - accuracy: 0.0405\n",
            "Epoch 81/100\n",
            "8/8 [==============================] - 0s 2ms/step - loss: 0.0042 - accuracy: 0.0577\n",
            "Epoch 82/100\n",
            "8/8 [==============================] - 0s 2ms/step - loss: 0.0039 - accuracy: 0.0470\n",
            "Epoch 83/100\n",
            "8/8 [==============================] - 0s 2ms/step - loss: 0.0036 - accuracy: 0.0360\n",
            "Epoch 84/100\n",
            "8/8 [==============================] - 0s 2ms/step - loss: 0.0034 - accuracy: 0.0293\n",
            "Epoch 85/100\n",
            "8/8 [==============================] - 0s 3ms/step - loss: 0.0030 - accuracy: 0.0280\n",
            "Epoch 86/100\n",
            "8/8 [==============================] - 0s 2ms/step - loss: 0.0034 - accuracy: 0.0290\n",
            "Epoch 87/100\n",
            "8/8 [==============================] - 0s 3ms/step - loss: 0.0034 - accuracy: 0.0492\n",
            "Epoch 88/100\n",
            "8/8 [==============================] - 0s 3ms/step - loss: 0.0035 - accuracy: 0.0373\n",
            "Epoch 89/100\n",
            "8/8 [==============================] - 0s 3ms/step - loss: 0.0037 - accuracy: 0.0426\n",
            "Epoch 90/100\n",
            "8/8 [==============================] - 0s 2ms/step - loss: 0.0034 - accuracy: 0.0487\n",
            "Epoch 91/100\n",
            "8/8 [==============================] - 0s 2ms/step - loss: 0.0033 - accuracy: 0.0405\n",
            "Epoch 92/100\n",
            "8/8 [==============================] - 0s 2ms/step - loss: 0.0036 - accuracy: 0.0375\n",
            "Epoch 93/100\n",
            "8/8 [==============================] - 0s 3ms/step - loss: 0.0042 - accuracy: 0.0469\n",
            "Epoch 94/100\n",
            "8/8 [==============================] - 0s 2ms/step - loss: 0.0039 - accuracy: 0.0297\n",
            "Epoch 95/100\n",
            "8/8 [==============================] - 0s 3ms/step - loss: 0.0034 - accuracy: 0.0393\n",
            "Epoch 96/100\n",
            "8/8 [==============================] - 0s 2ms/step - loss: 0.0047 - accuracy: 0.0397\n",
            "Epoch 97/100\n",
            "8/8 [==============================] - 0s 4ms/step - loss: 0.0036 - accuracy: 0.0361\n",
            "Epoch 98/100\n",
            "8/8 [==============================] - 0s 3ms/step - loss: 0.0042 - accuracy: 0.0481\n",
            "Epoch 99/100\n",
            "8/8 [==============================] - 0s 3ms/step - loss: 0.0034 - accuracy: 0.0415\n",
            "Epoch 100/100\n",
            "8/8 [==============================] - 0s 3ms/step - loss: 0.0027 - accuracy: 0.0369\n"
          ],
          "name": "stdout"
        },
        {
          "output_type": "execute_result",
          "data": {
            "text/plain": [
              "<keras.callbacks.History at 0x7fc337279ed0>"
            ]
          },
          "metadata": {
            "tags": []
          },
          "execution_count": 198
        }
      ]
    },
    {
      "cell_type": "code",
      "metadata": {
        "colab": {
          "base_uri": "https://localhost:8080/"
        },
        "id": "CgbtQzIvVNXe",
        "outputId": "e3518e48-09cf-4a86-9bf2-f1d790b634a4"
      },
      "source": [
        "score=model.evaluate(x_train,y_train)\n",
        "print(\"score :\",score)"
      ],
      "execution_count": 199,
      "outputs": [
        {
          "output_type": "stream",
          "text": [
            "8/8 [==============================] - 0s 2ms/step - loss: 0.0033 - accuracy: 0.0386\n",
            "score : [0.003319380572065711, 0.03862661123275757]\n"
          ],
          "name": "stdout"
        }
      ]
    },
    {
      "cell_type": "code",
      "metadata": {
        "colab": {
          "base_uri": "https://localhost:8080/"
        },
        "id": "ywlG3wPTdyDO",
        "outputId": "9679514a-7105-451b-e1fe-bd91452c057c"
      },
      "source": [
        "model.summary()"
      ],
      "execution_count": 195,
      "outputs": [
        {
          "output_type": "stream",
          "text": [
            "Model: \"sequential_3\"\n",
            "_________________________________________________________________\n",
            "Layer (type)                 Output Shape              Param #   \n",
            "=================================================================\n",
            "dense_55 (Dense)             (None, 20)                280       \n",
            "_________________________________________________________________\n",
            "dense_56 (Dense)             (None, 20)                420       \n",
            "_________________________________________________________________\n",
            "dense_57 (Dense)             (None, 10)                210       \n",
            "_________________________________________________________________\n",
            "dense_58 (Dense)             (None, 1)                 11        \n",
            "=================================================================\n",
            "Total params: 921\n",
            "Trainable params: 921\n",
            "Non-trainable params: 0\n",
            "_________________________________________________________________\n"
          ],
          "name": "stdout"
        }
      ]
    },
    {
      "cell_type": "code",
      "metadata": {
        "colab": {
          "base_uri": "https://localhost:8080/"
        },
        "id": "yC94sCiaeK9J",
        "outputId": "836819c9-269e-40f4-9d6c-66041904682d"
      },
      "source": [
        "model.summary()"
      ],
      "execution_count": 200,
      "outputs": [
        {
          "output_type": "stream",
          "text": [
            "Model: \"sequential_3\"\n",
            "_________________________________________________________________\n",
            "Layer (type)                 Output Shape              Param #   \n",
            "=================================================================\n",
            "dense_55 (Dense)             (None, 20)                280       \n",
            "_________________________________________________________________\n",
            "dense_56 (Dense)             (None, 20)                420       \n",
            "_________________________________________________________________\n",
            "dense_57 (Dense)             (None, 10)                210       \n",
            "_________________________________________________________________\n",
            "dense_58 (Dense)             (None, 1)                 11        \n",
            "_________________________________________________________________\n",
            "dense_59 (Dense)             (None, 7)                 14        \n",
            "_________________________________________________________________\n",
            "dense_60 (Dense)             (None, 7)                 56        \n",
            "_________________________________________________________________\n",
            "dense_61 (Dense)             (None, 1)                 8         \n",
            "=================================================================\n",
            "Total params: 999\n",
            "Trainable params: 999\n",
            "Non-trainable params: 0\n",
            "_________________________________________________________________\n"
          ],
          "name": "stdout"
        }
      ]
    },
    {
      "cell_type": "code",
      "metadata": {
        "colab": {
          "base_uri": "https://localhost:8080/"
        },
        "id": "uZC5sSCJeatJ",
        "outputId": "9810a1c0-8f0e-4d0e-e6c4-27cc02e56b9a"
      },
      "source": [
        "y_pred=model.predict(x_test)\n",
        "scores=model.evaluate(x_test,y_test, verbose=0)\n",
        "print(scores[0])"
      ],
      "execution_count": 201,
      "outputs": [
        {
          "output_type": "stream",
          "text": [
            "0.006532235071063042\n"
          ],
          "name": "stdout"
        }
      ]
    },
    {
      "cell_type": "code",
      "metadata": {
        "id": "vfqeoaetfJgZ"
      },
      "source": [
        "from sklearn.linear_model import LinearRegression"
      ],
      "execution_count": 202,
      "outputs": []
    },
    {
      "cell_type": "code",
      "metadata": {
        "id": "hmEJdonsfbk8"
      },
      "source": [
        "lr=LinearRegression()"
      ],
      "execution_count": 203,
      "outputs": []
    },
    {
      "cell_type": "code",
      "metadata": {
        "colab": {
          "base_uri": "https://localhost:8080/"
        },
        "id": "CEhn5VLTfebY",
        "outputId": "fabb838a-ebfe-4bc2-81cb-1b4738ea0041"
      },
      "source": [
        "lr.fit(x_train,y_train)"
      ],
      "execution_count": 204,
      "outputs": [
        {
          "output_type": "execute_result",
          "data": {
            "text/plain": [
              "LinearRegression(copy_X=True, fit_intercept=True, n_jobs=None, normalize=False)"
            ]
          },
          "metadata": {
            "tags": []
          },
          "execution_count": 204
        }
      ]
    },
    {
      "cell_type": "code",
      "metadata": {
        "id": "qrAZ0aO7ftu8"
      },
      "source": [
        "y_predict=lr.predict(x_test)"
      ],
      "execution_count": 205,
      "outputs": []
    },
    {
      "cell_type": "markdown",
      "metadata": {
        "id": "H-LkxfOuiLWY"
      },
      "source": [
        "# **Kerass Neural network vs Linear regression model**\n",
        "\n"
      ]
    },
    {
      "cell_type": "code",
      "metadata": {
        "colab": {
          "base_uri": "https://localhost:8080/",
          "height": 367
        },
        "id": "aZV1-jSXf4d5",
        "outputId": "4a27c77a-ef65-4815-ad1c-9112aafcd9b4"
      },
      "source": [
        "plt.figure(figsize=(10,5))\n",
        "plt.subplot(121)\n",
        "plt.scatter(y_test,y_pred)\n",
        "plt.xlabel(\"actual\")\n",
        "plt.ylabel(\"predicted\")\n",
        "plt.title(\"Kerass Neural network\")\n",
        "\n",
        "\n",
        "plt.subplot(122)\n",
        "plt.scatter(y_test,y_predict)\n",
        "plt.xlabel(\"actual\")\n",
        "plt.ylabel(\"predicted\")\n",
        "plt.title(\"Linear regression model\")\n",
        "\n"
      ],
      "execution_count": 217,
      "outputs": [
        {
          "output_type": "execute_result",
          "data": {
            "text/plain": [
              "Text(0.5, 1.0, 'Linear regression model')"
            ]
          },
          "metadata": {
            "tags": []
          },
          "execution_count": 217
        },
        {
          "output_type": "display_data",
          "data": {
            "image/png": "[encoded data removed]",
            "text/plain": [
              "<Figure size 720x360 with 2 Axes>"
            ]
          },
          "metadata": {
            "tags": [],
            "needs_background": "light"
          }
        }
      ]
    },
    {
      "cell_type": "code",
      "metadata": {
        "colab": {
          "base_uri": "https://localhost:8080/"
        },
        "id": "LIoBIUVMgbE6",
        "outputId": "0c5594b7-0440-44e6-bc94-881146790804"
      },
      "source": [
        "from sklearn.metrics import mean_squared_error\n",
        "mse=mean_squared_error(y_test,y_predict)\n",
        "print(\"mean sq error\", mse)\n",
        "plt.show()"
      ],
      "execution_count": 218,
      "outputs": [
        {
          "output_type": "stream",
          "text": [
            "mean sq error 0.011400992532362684\n"
          ],
          "name": "stdout"
        }
      ]
    },
    {
      "cell_type": "code",
      "metadata": {
        "id": "iBJTENylhYv9"
      },
      "source": [
        ""
      ],
      "execution_count": null,
      "outputs": []
    }
  ]
}